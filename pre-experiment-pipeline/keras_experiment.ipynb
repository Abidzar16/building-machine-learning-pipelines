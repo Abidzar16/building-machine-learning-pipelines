{
 "nbformat": 4,
 "nbformat_minor": 2,
 "metadata": {
  "language_info": {
   "name": "python",
   "codemirror_mode": {
    "name": "ipython",
    "version": 3
   },
   "version": "3.7.5-final"
  },
  "orig_nbformat": 2,
  "file_extension": ".py",
  "mimetype": "text/x-python",
  "name": "python",
  "npconvert_exporter": "python",
  "pygments_lexer": "ipython3",
  "version": 3,
  "kernelspec": {
   "name": "python37564bite9fae29d1f9b4588b9567202e692281c",
   "display_name": "Python 3.7.5 64-bit"
  }
 },
 "cells": [
  {
   "cell_type": "code",
   "execution_count": 255,
   "metadata": {},
   "outputs": [
    {
     "data": {
      "text/plain": "'2.1.0-rc1'"
     },
     "execution_count": 255,
     "metadata": {},
     "output_type": "execute_result"
    }
   ],
   "source": [
    "import os\n",
    "import sys\n",
    "import pandas as pd\n",
    "import numpy as np\n",
    "\n",
    "import tensorflow as tf\n",
    "\n",
    "from sklearn.model_selection import train_test_split\n",
    "from sklearn.preprocessing import LabelEncoder\n",
    "from sklearn.preprocessing import OrdinalEncoder\n",
    "\n",
    "tf.__version__"
   ]
  },
  {
   "cell_type": "code",
   "execution_count": 256,
   "metadata": {},
   "outputs": [],
   "source": [
    "# add project to the Pyithon path\n",
    "nb_dir = os.path.split(os.getcwd())[0]\n",
    "if nb_dir not in sys.path:\n",
    "    sys.path.append(nb_dir)"
   ]
  },
  {
   "cell_type": "code",
   "execution_count": 257,
   "metadata": {},
   "outputs": [],
   "source": [
    "# from components.model import get_model"
   ]
  },
  {
   "cell_type": "code",
   "execution_count": 258,
   "metadata": {},
   "outputs": [],
   "source": [
    "column_names = [\"col_0\",\"complaint_id\",\"product\",\"sub_product\",\"issue\",\"sub_issue\",\"state\",\"zip_code\",\"date_received\",\"date_sent_to_company\",\"company\",\"company_response\",\"timely_response\",\"consumer_disputed\"]\n",
    "feature_names = [\"product\", \"sub_product\", \"issue\", \"sub_issue\", \"state\", \"zip_code\", \"company\", \"company_response\", \"timely_response\", \"consumer_disputed\"]\n",
    "cat_features = [\"product\", \"sub_product\", \"state\", \"zip_code\", \"company_response\", \"timely_response\", \"consumer_disputed\"]\n",
    "text_features = [\"issue\", \"sub_issue\", \"company\",]\n",
    "LABEL_COLUMN = 'consumer_disputed'\n",
    "\n",
    "batch_size = 32\n",
    "EVAL_SAMPLES = 2000"
   ]
  },
  {
   "cell_type": "code",
   "execution_count": 289,
   "metadata": {},
   "outputs": [],
   "source": [
    "# load the dataset\n",
    "def load_dataset(filename):\n",
    "    df = pd.read_csv(filename, usecols=feature_names, na_values=0, keep_default_na=False)\n",
    "    df.consumer_disputed.replace(\"\", \"No\", inplace=True)\n",
    "\n",
    "    for feature in cat_features:\n",
    "        df[feature] = df[feature].astype(\"category\").cat.codes\n",
    "\n",
    "    for feature in text_features:\n",
    "        df[feature] = df[feature].apply(lambda x: x.strip()).replace('', 'UNK')\n",
    "\n",
    "    X = [pd.np.asarray(df[feature_name].values).reshape(-1) for feature_name in feature_names][:-1]\n",
    "    y = np.asarray(df.pop(\"consumer_disputed\"), dtype=np.uint8).reshape(-1)\n",
    "    return X, y\n",
    " \n",
    "X, y = load_dataset(\"../data/26k-consumer-complaints-modified.csv\")\n"
   ]
  },
  {
   "cell_type": "code",
   "execution_count": 290,
   "metadata": {},
   "outputs": [],
   "source": [
    "\n",
    "# def get_dataset(file_path, **kwargs):\n",
    "#     dataset = tf.data.experimental.make_csv_dataset(\n",
    "#         file_path,\n",
    "#         column_names=column_names,\n",
    "#         select_columns=feature_names,\n",
    "#         batch_size=batch_size,\n",
    "#         label_name=LABEL_COLUMN,\n",
    "#         na_value=\"?\",\n",
    "#         num_epochs=1,\n",
    "#         ignore_errors=True, \n",
    "#         **kwargs)\n",
    "#     return dataset\n",
    "# dataset = get_dataset(\"../data/26k-consumer-complaints-modified.csv\")\n",
    "# features, labels = next(iter(dataset))\n",
    "# print(features)\n",
    "# print(labels)"
   ]
  },
  {
   "cell_type": "code",
   "execution_count": 299,
   "metadata": {},
   "outputs": [],
   "source": [
    "# import tensorflow as tf\n",
    "# import tensorflow_hub as hub\n",
    "\n",
    "# def get_model(show_summary=True):\n",
    "#     \"\"\"\n",
    "#     Function defines a Keras model and returns the model as Keras object\n",
    "#     \"\"\"\n",
    "#     # how do you get the size of the embedding?? Why use an embedding when there are only 2 dimensions to start with?\n",
    "#     # in fact, why 2 dimensions for 0/1?\n",
    "\n",
    "#     # \"product\", \"sub_product\", \"issue\", \"sub_issue\", \"state\", \"zip_code\", \"company\", \"company_response\", \"timely_response\"\n",
    "#     #    x0            x1           x2        x3         x4        x5          x6             x7                 x8\n",
    "\n",
    "#     # Cat: \"product\", \"sub_product\", \"state\", \"zip_code\", \"company_response\", \"timely_response\", \"consumer_disputed\"\n",
    "\n",
    "#     # categorical inputs\n",
    "#     input_product = tf.keras.Input(shape=(1,), name=\"product_xf\")\n",
    "#     input_sub_product = tf.keras.Input(shape=(1,), name=\"sub_product_xf\")\n",
    "#     input_state = tf.keras.Input(shape=(1,), name=\"state_xf\")\n",
    "#     input_zip_code = tf.keras.Input(shape=(1,), name=\"zip_code_xf\")\n",
    "#     input_company_response = tf.keras.Input(shape=(1,), name=\"company_response_xf\")\n",
    "#     input_timely_response = tf.keras.Input(shape=(1,), name=\"timely_response_xf\")\n",
    "\n",
    "#     # text inputs\n",
    "#     module_url = \"https://tfhub.dev/google/nnlm-en-dim128/2\"\n",
    "#     embed = hub.KerasLayer(module_url)\n",
    "#     input_issue = tf.keras.Input(shape=(1,), name=\"issue_xf\", dtype=tf.string)\n",
    "#     input_sub_issue = tf.keras.Input(shape=(1,), name=\"sub_issue_xf\", dtype=tf.string)\n",
    "#     input_company_name = tf.keras.Input(shape=(1,), name=\"company_xf\", dtype=tf.string)\n",
    "\n",
    "#     def cnn_layers(x):\n",
    "#         reshaped_x = tf.reshape(x, [-1])\n",
    "#         embedded_x = embed(reshaped_x) \n",
    "#         conv_x = tf.keras.layers.Reshape((1, 128), input_shape=(128,))(embedded_x)\n",
    "#         conv_x = tf.keras.layers.Conv1D(32, 1, activation='relu')(conv_x)\n",
    "#         conv_x = tf.keras.layers.GlobalMaxPooling1D()(conv_x)\n",
    "#         conv_x = tf.keras.layers.Dense(10, activation='relu')(conv_x)\n",
    "#         return conv_x\n",
    "\n",
    "#     # convert to embeddings\n",
    "#     x0 = tf.keras.layers.Embedding(12, 3)(input_product)\n",
    "#     x0 = tf.keras.layers.Reshape((3, ), input_shape=(1, 3))(x0)\n",
    "\n",
    "#     x1 = tf.keras.layers.Embedding(60, 5)(input_sub_product)\n",
    "#     x1 = tf.keras.layers.Reshape((5, ), input_shape=(1, 5))(x1)\n",
    "\n",
    "#     x4 = tf.keras.layers.Embedding(60, 5)(input_state)\n",
    "#     x4 = tf.keras.layers.Reshape((5, ), input_shape=(1, 5))(x4)\n",
    "\n",
    "#     x5 = tf.keras.layers.Embedding(10000, 5)(input_zip_code)\n",
    "#     x5 = tf.keras.layers.Reshape((5, ), input_shape=(1, 5))(x5)\n",
    "\n",
    "#     x7 = tf.keras.layers.Embedding(10, 3)(input_company_response)\n",
    "#     x7 = tf.keras.layers.Reshape((3, ), input_shape=(1, 3))(x7)\n",
    "\n",
    "#     x8 = tf.keras.layers.Embedding(2, 1)(input_timely_response)\n",
    "#     x8 = tf.keras.layers.Reshape((1, ), input_shape=(1, 2))(x8)\n",
    "\n",
    "#     x_feed_forward = tf.keras.layers.concatenate(\n",
    "#         [x0, x1, x4, x5, x7, x8])\n",
    "\n",
    "#     x = tf.keras.layers.Dense(100, activation='relu')(x_feed_forward)\n",
    "#     x = tf.keras.layers.Dense(50, activation='relu')(x)\n",
    "#     x = tf.keras.layers.Dense(10, activation='relu')(x)\n",
    "\n",
    "#     conv_issue = cnn_layers(input_issue)\n",
    "#     conv_sub_issue = cnn_layers(input_sub_issue)\n",
    "#     conv_company = cnn_layers(input_company_name)\n",
    "\n",
    "#     x = tf.keras.layers.concatenate([x, conv_company, conv_issue, conv_sub_issue])\n",
    "#     x = tf.keras.layers.Dense(10, activation='relu')(x)\n",
    "#     output = tf.keras.layers.Dense(1, activation='sigmoid')(x) \n",
    "\n",
    "#     _inputs = [input_product, input_sub_product,\n",
    "#               input_issue, input_sub_issue, \n",
    "#               input_state, input_zip_code, input_company_name, \n",
    "#               input_company_response, input_timely_response] \n",
    "\n",
    "#     keras_model = tf.keras.models.Model(_inputs, output)\n",
    "#     keras_model.compile(optimizer='rmsprop',\n",
    "#                      loss='binary_crossentropy',  # categorical_crossentropy\n",
    "#                      metrics=[\n",
    "#                          'accuracy', tf.keras.metrics.TruePositives(), \n",
    "#                          tf.keras.metrics.TrueNegatives(), tf.keras.metrics.FalsePositives(), \n",
    "#                          tf.keras.metrics.FalseNegatives()]\n",
    "#                         )\n",
    "#     if show_summary:\n",
    "#         keras_model.summary()\n",
    "\n",
    "#     return keras_model"
   ]
  },
  {
   "cell_type": "code",
   "execution_count": 300,
   "metadata": {},
   "outputs": [
    {
     "name": "stdout",
     "output_type": "stream",
     "text": "Model: \"model_31\"\n__________________________________________________________________________________________________\nLayer (type)                    Output Shape         Param #     Connected to                     \n==================================================================================================\nproduct_xf (InputLayer)         [(None, 1)]          0                                            \n__________________________________________________________________________________________________\nsub_product_xf (InputLayer)     [(None, 1)]          0                                            \n__________________________________________________________________________________________________\nstate_xf (InputLayer)           [(None, 1)]          0                                            \n__________________________________________________________________________________________________\nzip_code_xf (InputLayer)        [(None, 1)]          0                                            \n__________________________________________________________________________________________________\ncompany_response_xf (InputLayer [(None, 1)]          0                                            \n__________________________________________________________________________________________________\ntimely_response_xf (InputLayer) [(None, 1)]          0                                            \n__________________________________________________________________________________________________\ncompany_xf (InputLayer)         [(None, 1)]          0                                            \n__________________________________________________________________________________________________\nissue_xf (InputLayer)           [(None, 1)]          0                                            \n__________________________________________________________________________________________________\nsub_issue_xf (InputLayer)       [(None, 1)]          0                                            \n__________________________________________________________________________________________________\nembedding_182 (Embedding)       (None, 1, 3)         36          product_xf[0][0]                 \n__________________________________________________________________________________________________\nembedding_183 (Embedding)       (None, 1, 5)         300         sub_product_xf[0][0]             \n__________________________________________________________________________________________________\nembedding_184 (Embedding)       (None, 1, 5)         300         state_xf[0][0]                   \n__________________________________________________________________________________________________\nembedding_185 (Embedding)       (None, 1, 5)         50000       zip_code_xf[0][0]                \n__________________________________________________________________________________________________\nembedding_186 (Embedding)       (None, 1, 3)         30          company_response_xf[0][0]        \n__________________________________________________________________________________________________\nembedding_187 (Embedding)       (None, 1, 1)         2           timely_response_xf[0][0]         \n__________________________________________________________________________________________________\ntf_op_layer_Reshape_254 (Tensor [(None,)]            0           company_xf[0][0]                 \n__________________________________________________________________________________________________\ntf_op_layer_Reshape_252 (Tensor [(None,)]            0           issue_xf[0][0]                   \n__________________________________________________________________________________________________\ntf_op_layer_Reshape_253 (Tensor [(None,)]            0           sub_issue_xf[0][0]               \n__________________________________________________________________________________________________\nreshape_246 (Reshape)           (None, 3)            0           embedding_182[0][0]              \n__________________________________________________________________________________________________\nreshape_247 (Reshape)           (None, 5)            0           embedding_183[0][0]              \n__________________________________________________________________________________________________\nreshape_248 (Reshape)           (None, 5)            0           embedding_184[0][0]              \n__________________________________________________________________________________________________\nreshape_249 (Reshape)           (None, 5)            0           embedding_185[0][0]              \n__________________________________________________________________________________________________\nreshape_250 (Reshape)           (None, 3)            0           embedding_186[0][0]              \n__________________________________________________________________________________________________\nreshape_251 (Reshape)           (None, 1)            0           embedding_187[0][0]              \n__________________________________________________________________________________________________\nkeras_layer_28 (KerasLayer)     (None, 128)          124642688   tf_op_layer_Reshape_252[0][0]    \n                                                                 tf_op_layer_Reshape_253[0][0]    \n                                                                 tf_op_layer_Reshape_254[0][0]    \n__________________________________________________________________________________________________\nconcatenate_60 (Concatenate)    (None, 22)           0           reshape_246[0][0]                \n                                                                 reshape_247[0][0]                \n                                                                 reshape_248[0][0]                \n                                                                 reshape_249[0][0]                \n                                                                 reshape_250[0][0]                \n                                                                 reshape_251[0][0]                \n__________________________________________________________________________________________________\nreshape_254 (Reshape)           (None, 1, 128)       0           keras_layer_28[2][0]             \n__________________________________________________________________________________________________\nreshape_252 (Reshape)           (None, 1, 128)       0           keras_layer_28[0][0]             \n__________________________________________________________________________________________________\nreshape_253 (Reshape)           (None, 1, 128)       0           keras_layer_28[1][0]             \n__________________________________________________________________________________________________\ndense_232 (Dense)               (None, 100)          2300        concatenate_60[0][0]             \n__________________________________________________________________________________________________\nconv1d_65 (Conv1D)              (None, 1, 32)        4128        reshape_254[0][0]                \n__________________________________________________________________________________________________\nconv1d_63 (Conv1D)              (None, 1, 32)        4128        reshape_252[0][0]                \n__________________________________________________________________________________________________\nconv1d_64 (Conv1D)              (None, 1, 32)        4128        reshape_253[0][0]                \n__________________________________________________________________________________________________\ndense_233 (Dense)               (None, 50)           5050        dense_232[0][0]                  \n__________________________________________________________________________________________________\nglobal_max_pooling1d_65 (Global (None, 32)           0           conv1d_65[0][0]                  \n__________________________________________________________________________________________________\nglobal_max_pooling1d_63 (Global (None, 32)           0           conv1d_63[0][0]                  \n__________________________________________________________________________________________________\nglobal_max_pooling1d_64 (Global (None, 32)           0           conv1d_64[0][0]                  \n__________________________________________________________________________________________________\ndense_234 (Dense)               (None, 10)           510         dense_233[0][0]                  \n__________________________________________________________________________________________________\ndense_237 (Dense)               (None, 10)           330         global_max_pooling1d_65[0][0]    \n__________________________________________________________________________________________________\ndense_235 (Dense)               (None, 10)           330         global_max_pooling1d_63[0][0]    \n__________________________________________________________________________________________________\ndense_236 (Dense)               (None, 10)           330         global_max_pooling1d_64[0][0]    \n__________________________________________________________________________________________________\nconcatenate_61 (Concatenate)    (None, 40)           0           dense_234[0][0]                  \n                                                                 dense_237[0][0]                  \n                                                                 dense_235[0][0]                  \n                                                                 dense_236[0][0]                  \n__________________________________________________________________________________________________\ndense_238 (Dense)               (None, 10)           410         concatenate_61[0][0]             \n__________________________________________________________________________________________________\ndense_239 (Dense)               (None, 1)            11          dense_238[0][0]                  \n==================================================================================================\nTotal params: 124,715,011\nTrainable params: 72,323\nNon-trainable params: 124,642,688\n__________________________________________________________________________________________________\n"
    }
   ],
   "source": [
    "model = get_model()"
   ]
  },
  {
   "cell_type": "code",
   "execution_count": 303,
   "metadata": {},
   "outputs": [
    {
     "name": "stdout",
     "output_type": "stream",
     "text": "Train on 21117 samples, validate on 7039 samples\nEpoch 1/4\n21117/21117 [==============================] - 3s 120us/sample - loss: 0.3926 - accuracy: 0.8442 - true_positives_13: 0.0000e+00 - true_negatives_13: 17827.0000 - false_positives_13: 0.0000e+00 - false_negatives_13: 3290.0000 - val_loss: 0.4890 - val_accuracy: 0.7986 - val_true_positives_13: 0.0000e+00 - val_true_negatives_13: 5621.0000 - val_false_positives_13: 0.0000e+00 - val_false_negatives_13: 1418.0000\nEpoch 2/4\n21117/21117 [==============================] - 2s 98us/sample - loss: 0.3761 - accuracy: 0.8452 - true_positives_13: 36.0000 - true_negatives_13: 17812.0000 - false_positives_13: 15.0000 - false_negatives_13: 3254.0000 - val_loss: 0.4858 - val_accuracy: 0.8000 - val_true_positives_13: 30.0000 - val_true_negatives_13: 5601.0000 - val_false_positives_13: 20.0000 - val_false_negatives_13: 1388.0000\nEpoch 3/4\n21117/21117 [==============================] - 2s 97us/sample - loss: 0.3576 - accuracy: 0.8535 - true_positives_13: 362.0000 - true_negatives_13: 17661.0000 - false_positives_13: 166.0000 - false_negatives_13: 2928.0000 - val_loss: 0.5050 - val_accuracy: 0.7994 - val_true_positives_13: 68.0000 - val_true_negatives_13: 5559.0000 - val_false_positives_13: 62.0000 - val_false_negatives_13: 1350.0000\nEpoch 4/4\n21117/21117 [==============================] - 2s 98us/sample - loss: 0.3397 - accuracy: 0.8646 - true_positives_13: 772.0000 - true_negatives_13: 17485.0000 - false_positives_13: 342.0000 - false_negatives_13: 2518.0000 - val_loss: 0.5239 - val_accuracy: 0.7910 - val_true_positives_13: 116.0000 - val_true_negatives_13: 5452.0000 - val_false_positives_13: 169.0000 - val_false_negatives_13: 1302.0000\n"
    },
    {
     "data": {
      "text/plain": "<tensorflow.python.keras.callbacks.History at 0x193fa8c90>"
     },
     "execution_count": 303,
     "metadata": {},
     "output_type": "execute_result"
    }
   ],
   "source": [
    "model.fit(x=X, y=y, batch_size=batch_size, validation_split=0.25, epochs=4)"
   ]
  },
  {
   "cell_type": "code",
   "execution_count": null,
   "metadata": {},
   "outputs": [],
   "source": []
  }
 ]
}