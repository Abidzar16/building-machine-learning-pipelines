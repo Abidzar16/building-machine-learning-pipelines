{
 "cells": [
  {
   "cell_type": "code",
   "execution_count": 1,
   "metadata": {},
   "outputs": [],
   "source": [
    "import pandas as pd\n",
    "import os\n",
    "import sys\n",
    "import tensorflow as tf\n",
    "import numpy as np"
   ]
  },
  {
   "cell_type": "code",
   "execution_count": 41,
   "metadata": {},
   "outputs": [
    {
     "data": {
      "text/html": [
       "\n",
       "                Logging results to <a href=\"https://wandb.com\" target=\"_blank\">Weights & Biases</a> <a href=\"https://docs.wandb.com/integrations/jupyter.html\" target=\"_blank\">(Documentation)</a>.<br/>\n",
       "                Project page: <a href=\"https://app.wandb.ai/drcat101/consumer-complaints\" target=\"_blank\">https://app.wandb.ai/drcat101/consumer-complaints</a><br/>\n",
       "                Run page: <a href=\"https://app.wandb.ai/drcat101/consumer-complaints/runs/dqu609d4\" target=\"_blank\">https://app.wandb.ai/drcat101/consumer-complaints/runs/dqu609d4</a><br/>\n",
       "            "
      ],
      "text/plain": [
       "<IPython.core.display.HTML object>"
      ]
     },
     "metadata": {},
     "output_type": "display_data"
    },
    {
     "data": {
      "text/plain": [
       "W&B Run: https://app.wandb.ai/drcat101/consumer-complaints/runs/dqu609d4"
      ]
     },
     "execution_count": 41,
     "metadata": {},
     "output_type": "execute_result"
    }
   ],
   "source": [
    "import wandb\n",
    "from wandb.keras import WandbCallback"
   ]
  },
  {
   "cell_type": "code",
   "execution_count": 2,
   "metadata": {},
   "outputs": [],
   "source": [
    "nb_dir = os.path.split(os.getcwd())[0]\n",
    "if nb_dir not in sys.path:\n",
    "    sys.path.append(nb_dir)"
   ]
  },
  {
   "cell_type": "code",
   "execution_count": 3,
   "metadata": {},
   "outputs": [],
   "source": [
    "feature_names = [\"product\", \"sub_product\", \"issue\", \"sub_issue\", \"state\", \"zip_code\", \"company\", \"company_response\", \"timely_response\", \"consumer_disputed\"]\n",
    "cat_features = [\"sub_product\", \"state\"]\n",
    "#bucket_features = ['zip_code']\n",
    "one_hot_features = ['product', 'company_response', 'timely_response', 'company', 'issue', 'zip_code_short']"
   ]
  },
  {
   "cell_type": "code",
   "execution_count": 4,
   "metadata": {},
   "outputs": [],
   "source": [
    "df = pd.read_csv('../data/21Feb/26k-consumer-complaints-labels.csv', usecols=feature_names, na_values=0, keep_default_na=False)"
   ]
  },
  {
   "cell_type": "code",
   "execution_count": 5,
   "metadata": {},
   "outputs": [
    {
     "data": {
      "text/html": [
       "<div>\n",
       "<style scoped>\n",
       "    .dataframe tbody tr th:only-of-type {\n",
       "        vertical-align: middle;\n",
       "    }\n",
       "\n",
       "    .dataframe tbody tr th {\n",
       "        vertical-align: top;\n",
       "    }\n",
       "\n",
       "    .dataframe thead th {\n",
       "        text-align: right;\n",
       "    }\n",
       "</style>\n",
       "<table border=\"1\" class=\"dataframe\">\n",
       "  <thead>\n",
       "    <tr style=\"text-align: right;\">\n",
       "      <th></th>\n",
       "      <th>product</th>\n",
       "      <th>sub_product</th>\n",
       "      <th>issue</th>\n",
       "      <th>sub_issue</th>\n",
       "      <th>state</th>\n",
       "      <th>zip_code</th>\n",
       "      <th>company</th>\n",
       "      <th>company_response</th>\n",
       "      <th>timely_response</th>\n",
       "      <th>consumer_disputed</th>\n",
       "    </tr>\n",
       "  </thead>\n",
       "  <tbody>\n",
       "    <tr>\n",
       "      <th>0</th>\n",
       "      <td>Debt collection</td>\n",
       "      <td></td>\n",
       "      <td>Communication tactics</td>\n",
       "      <td>Frequent or repeated calls</td>\n",
       "      <td>TX</td>\n",
       "      <td>76119</td>\n",
       "      <td>Premium Asset Services, LLC</td>\n",
       "      <td>In progress</td>\n",
       "      <td>Yes</td>\n",
       "      <td>NaN</td>\n",
       "    </tr>\n",
       "    <tr>\n",
       "      <th>1</th>\n",
       "      <td>Debt collection</td>\n",
       "      <td>Medical</td>\n",
       "      <td>Cont'd attempts collect debt not owed</td>\n",
       "      <td>Debt is not mine</td>\n",
       "      <td>TX</td>\n",
       "      <td>77479</td>\n",
       "      <td>Accounts Receivable Consultants Inc.</td>\n",
       "      <td>Closed with explanation</td>\n",
       "      <td>Yes</td>\n",
       "      <td>NaN</td>\n",
       "    </tr>\n",
       "    <tr>\n",
       "      <th>2</th>\n",
       "      <td>Mortgage</td>\n",
       "      <td>FHA mortgage</td>\n",
       "      <td>Application, originator, mortgage broker</td>\n",
       "      <td></td>\n",
       "      <td>MA</td>\n",
       "      <td>2127</td>\n",
       "      <td>RBS Citizens</td>\n",
       "      <td>Closed with explanation</td>\n",
       "      <td>Yes</td>\n",
       "      <td>1.0</td>\n",
       "    </tr>\n",
       "    <tr>\n",
       "      <th>3</th>\n",
       "      <td>Credit card</td>\n",
       "      <td></td>\n",
       "      <td>Other</td>\n",
       "      <td></td>\n",
       "      <td>CA</td>\n",
       "      <td>92592</td>\n",
       "      <td>Navy FCU</td>\n",
       "      <td>In progress</td>\n",
       "      <td>Yes</td>\n",
       "      <td>NaN</td>\n",
       "    </tr>\n",
       "    <tr>\n",
       "      <th>4</th>\n",
       "      <td>Debt collection</td>\n",
       "      <td>Non-federal student loan</td>\n",
       "      <td>Cont'd attempts collect debt not owed</td>\n",
       "      <td>Debt resulted from identity theft</td>\n",
       "      <td></td>\n",
       "      <td>43068</td>\n",
       "      <td>Transworld Systems Inc.</td>\n",
       "      <td>In progress</td>\n",
       "      <td>Yes</td>\n",
       "      <td>NaN</td>\n",
       "    </tr>\n",
       "  </tbody>\n",
       "</table>\n",
       "</div>"
      ],
      "text/plain": [
       "           product               sub_product  \\\n",
       "0  Debt collection                             \n",
       "1  Debt collection                   Medical   \n",
       "2         Mortgage              FHA mortgage   \n",
       "3      Credit card                             \n",
       "4  Debt collection  Non-federal student loan   \n",
       "\n",
       "                                      issue  \\\n",
       "0                     Communication tactics   \n",
       "1     Cont'd attempts collect debt not owed   \n",
       "2  Application, originator, mortgage broker   \n",
       "3                                     Other   \n",
       "4     Cont'd attempts collect debt not owed   \n",
       "\n",
       "                           sub_issue state  zip_code  \\\n",
       "0         Frequent or repeated calls    TX     76119   \n",
       "1                   Debt is not mine    TX     77479   \n",
       "2                                       MA      2127   \n",
       "3                                       CA     92592   \n",
       "4  Debt resulted from identity theft           43068   \n",
       "\n",
       "                                company         company_response  \\\n",
       "0           Premium Asset Services, LLC              In progress   \n",
       "1  Accounts Receivable Consultants Inc.  Closed with explanation   \n",
       "2                          RBS Citizens  Closed with explanation   \n",
       "3                              Navy FCU              In progress   \n",
       "4               Transworld Systems Inc.              In progress   \n",
       "\n",
       "  timely_response  consumer_disputed  \n",
       "0             Yes                NaN  \n",
       "1             Yes                NaN  \n",
       "2             Yes                1.0  \n",
       "3             Yes                NaN  \n",
       "4             Yes                NaN  "
      ]
     },
     "execution_count": 5,
     "metadata": {},
     "output_type": "execute_result"
    }
   ],
   "source": [
    "df.head()"
   ]
  },
  {
   "cell_type": "code",
   "execution_count": 66,
   "metadata": {},
   "outputs": [
    {
     "data": {
      "text/plain": [
       "                                            14945\n",
       "Debt is not mine                             2125\n",
       "Account status                               1604\n",
       "Information is not mine                      1307\n",
       "Debt was paid                                 890\n",
       "Not given enough info to verify debt          815\n",
       "Frequent or repeated calls                    754\n",
       "Account terms                                 484\n",
       "Attempted to collect wrong amount             482\n",
       "Right to dispute notice not received          387\n",
       "Problem getting my free annual report         386\n",
       "Public record                                 356\n",
       "Talked to a third party about my debt         289\n",
       "Personal information                          258\n",
       "Threatened to take legal action               246\n",
       "Problem with statement of dispute             243\n",
       "No notice of investigation status/result      241\n",
       "Debt resulted from identity theft             205\n",
       "Problem getting report or credit score        198\n",
       "Report improperly shared by CRC               162\n",
       "Reinserted previously deleted info            161\n",
       "Contacted employer after asked not to         149\n",
       "Debt was discharged in bankruptcy             131\n",
       "Threatened to sue on too old debt             128\n",
       "Used obscene/profane/abusive language         111\n",
       "Contacted me after I asked not to             109\n",
       "Threatened arrest/jail if do not pay          109\n",
       "Called after sent written cease of comm       100\n",
       "Not disclosed as an attempt to collect         98\n",
       "Investigation took too long                    86\n",
       "Inadequate help over the phone                 68\n",
       "Impersonated an attorney or official           63\n",
       "Indicated committed crime not paying           63\n",
       "Problem with fraud alerts                      58\n",
       "Sued w/o proper notification of suit           56\n",
       "Seized/Attempted to seize property             55\n",
       "Attempted to/Collected exempt funds            44\n",
       "Called outside of 8am-9pm                      40\n",
       "Billing dispute                                36\n",
       "Account terms and changes                      24\n",
       "Sued where didn't live/sign for debt           21\n",
       "Problem cancelling or closing account          21\n",
       "Indicated shouldn't respond to lawsuit         16\n",
       "Receiving unwanted marketing/advertising       11\n",
       "Report shared with employer w/o consent         9\n",
       "Contacted me instead of my attorney             8\n",
       "Received marketing offer after opted out        4\n",
       "Name: sub_issue, dtype: int64"
      ]
     },
     "execution_count": 66,
     "metadata": {},
     "output_type": "execute_result"
    }
   ],
   "source": [
    "df['sub_issue'].value_counts()"
   ]
  },
  {
   "cell_type": "code",
   "execution_count": 7,
   "metadata": {},
   "outputs": [],
   "source": [
    "top_n = 20\n",
    "top_companies = df['company'].value_counts().head(top_n).index.tolist()\n",
    "df.loc[~df['company'].isin(top_companies), 'company'] = 'other'"
   ]
  },
  {
   "cell_type": "code",
   "execution_count": 8,
   "metadata": {},
   "outputs": [],
   "source": [
    "top_issues = df['issue'].value_counts().head(top_n).index.tolist()\n",
    "df.loc[~df['issue'].isin(top_issues), 'issue'] = 'Other'"
   ]
  },
  {
   "cell_type": "code",
   "execution_count": 9,
   "metadata": {},
   "outputs": [],
   "source": [
    "df['zip_code_short'] = df['zip_code'].apply(lambda x: str(x)[0])"
   ]
  },
  {
   "cell_type": "code",
   "execution_count": 10,
   "metadata": {},
   "outputs": [
    {
     "name": "stdout",
     "output_type": "stream",
     "text": [
      "product\n",
      "11\n",
      "company_response\n",
      "6\n",
      "timely_response\n",
      "2\n",
      "company\n",
      "21\n",
      "issue\n",
      "20\n",
      "zip_code_short\n",
      "9\n"
     ]
    }
   ],
   "source": [
    "for col in one_hot_features:\n",
    "    print(col)\n",
    "    print(df[col].nunique())"
   ]
  },
  {
   "cell_type": "code",
   "execution_count": 11,
   "metadata": {},
   "outputs": [],
   "source": [
    "for feature in cat_features + one_hot_features:\n",
    "    df[feature] = df[feature].astype(\"category\").cat.codes"
   ]
  },
  {
   "cell_type": "code",
   "execution_count": 19,
   "metadata": {},
   "outputs": [],
   "source": [
    "df['consumer_disputed'] = df['consumer_disputed'].fillna(0)"
   ]
  },
  {
   "cell_type": "code",
   "execution_count": 21,
   "metadata": {},
   "outputs": [],
   "source": [
    "df_majority = df[df['consumer_disputed']==0.]\n",
    "df_minority = df[df['consumer_disputed']==1.]"
   ]
  },
  {
   "cell_type": "code",
   "execution_count": 18,
   "metadata": {},
   "outputs": [
    {
     "data": {
      "text/plain": [
       "4708"
      ]
     },
     "execution_count": 18,
     "metadata": {},
     "output_type": "execute_result"
    }
   ],
   "source": [
    "len(df_minority)"
   ]
  },
  {
   "cell_type": "code",
   "execution_count": 22,
   "metadata": {},
   "outputs": [],
   "source": [
    "df_majority = df_majority.sample(n=4708, replace=False)"
   ]
  },
  {
   "cell_type": "code",
   "execution_count": 23,
   "metadata": {},
   "outputs": [],
   "source": [
    "df_resampled = pd.concat([df_majority, df_minority])"
   ]
  },
  {
   "cell_type": "code",
   "execution_count": 24,
   "metadata": {},
   "outputs": [],
   "source": [
    "df_resampled = df_resampled.sample(frac=1).reset_index(drop=True)\n"
   ]
  },
  {
   "cell_type": "code",
   "execution_count": 26,
   "metadata": {},
   "outputs": [],
   "source": [
    "one_hot_x = [pd.np.asarray(tf.keras.utils.to_categorical(df_resampled[feature_name].values)) for feature_name in one_hot_features]"
   ]
  },
  {
   "cell_type": "code",
   "execution_count": 27,
   "metadata": {},
   "outputs": [],
   "source": [
    "embedding_x = [pd.np.asarray(df_resampled[feature_name].values).reshape(-1) for feature_name in cat_features]#[:-1]"
   ]
  },
  {
   "cell_type": "code",
   "execution_count": 28,
   "metadata": {},
   "outputs": [],
   "source": [
    "X = one_hot_x + embedding_x"
   ]
  },
  {
   "cell_type": "code",
   "execution_count": 33,
   "metadata": {},
   "outputs": [],
   "source": [
    "y = np.asarray(df_resampled[\"consumer_disputed\"], dtype=np.uint8).reshape(-1)"
   ]
  },
  {
   "cell_type": "code",
   "execution_count": 63,
   "metadata": {},
   "outputs": [],
   "source": [
    "def get_model(show_summary=True):\n",
    "    \"\"\"\n",
    "    Function defines a Keras model and returns the model as Keras object\n",
    "    \"\"\"\n",
    "    wandb.init(project=\"consumer-complaints\")\n",
    "    config = wandb.config\n",
    "    config.hidden_layer_size = 256\n",
    "    config.optimizer = 'adam'\n",
    "\n",
    "    # cat_features = [\"sub_product\", \"state\"]\n",
    "    # one_hot_features = ['product', 'company_response', 'timely_response', 'company', 'issue', 'zip_code_short']\n",
    "\n",
    "    # one-hot categorical features\n",
    "    num_products = 11\n",
    "    num_company_responses = 6\n",
    "    num_timely_responses = 2\n",
    "    num_companies = 21\n",
    "    num_issues = 20\n",
    "    num_zip_codes = 9\n",
    "\n",
    "    input_product = tf.keras.Input(shape=(num_products,), name=\"product_xf\")\n",
    "    input_company_response = tf.keras.Input(shape=(num_company_responses,), name=\"company_response_xf\")\n",
    "    input_timely_response = tf.keras.Input(shape=(num_timely_responses,), name=\"timely_response_xf\")\n",
    "    input_company = tf.keras.Input(shape=(num_companies,), name=\"company_xf\")\n",
    "    input_issue = tf.keras.Input(shape=(num_issues,), name=\"issue_xf\")\n",
    "    input_zip_code = tf.keras.Input(shape=(num_zip_codes,), name=\"zip_code_xf\")\n",
    "\n",
    "    # categorical features\n",
    "    input_sub_product = tf.keras.Input(shape=(1,), name=\"sub_product_xf\")\n",
    "    input_state = tf.keras.Input(shape=(1,), name=\"state_xf\")\n",
    "\n",
    "    # convert to embeddings\n",
    "    embed_sub_product = tf.keras.layers.Embedding(70, 5)(input_sub_product)\n",
    "    embed_sub_product = tf.keras.layers.Reshape((5, ), input_shape=(1, 5))(embed_sub_product)\n",
    "\n",
    "    embed_state = tf.keras.layers.Embedding(70, 5)(input_state)\n",
    "    embed_state = tf.keras.layers.Reshape((5, ), input_shape=(1, 5))(embed_state)\n",
    "\n",
    "    x_feed_forward = tf.keras.layers.concatenate(\n",
    "        [input_product, input_company_response, input_timely_response, input_company,\n",
    "        input_issue, input_zip_code, embed_sub_product, embed_state])\n",
    "\n",
    "    \n",
    "    x = tf.keras.layers.Dense(config.hidden_layer_size, activation='relu')(x_feed_forward)\n",
    "    x = tf.keras.layers.Dense(128, activation='relu')(x)\n",
    "    x = tf.keras.layers.Dense(16, activation='relu')(x)\n",
    "    output = tf.keras.layers.Dense(1, activation='sigmoid')(x) \n",
    "\n",
    "    _inputs = [input_product, input_company_response, input_timely_response, input_company, \n",
    "              input_issue, input_zip_code, input_sub_product, input_state] \n",
    "\n",
    "    keras_model = tf.keras.models.Model(_inputs, output)\n",
    "    keras_model.compile(optimizer=config.optimizer,\n",
    "                     loss='binary_crossentropy',  # categorical_crossentropy\n",
    "                     metrics=[\n",
    "                         tf.keras.metrics.BinaryAccuracy(),\n",
    "                         ])\n",
    "    if show_summary:\n",
    "        keras_model.summary()\n",
    "\n",
    "    return keras_model"
   ]
  },
  {
   "cell_type": "code",
   "execution_count": 64,
   "metadata": {},
   "outputs": [
    {
     "data": {
      "text/html": [
       "\n",
       "                Logging results to <a href=\"https://wandb.com\" target=\"_blank\">Weights & Biases</a> <a href=\"https://docs.wandb.com/integrations/jupyter.html\" target=\"_blank\">(Documentation)</a>.<br/>\n",
       "                Project page: <a href=\"https://app.wandb.ai/drcat101/consumer-complaints\" target=\"_blank\">https://app.wandb.ai/drcat101/consumer-complaints</a><br/>\n",
       "                Run page: <a href=\"https://app.wandb.ai/drcat101/consumer-complaints/runs/q8bk1sa8\" target=\"_blank\">https://app.wandb.ai/drcat101/consumer-complaints/runs/q8bk1sa8</a><br/>\n",
       "            "
      ],
      "text/plain": [
       "<IPython.core.display.HTML object>"
      ]
     },
     "metadata": {},
     "output_type": "display_data"
    }
   ],
   "source": [
    "model = get_model(show_summary=False)"
   ]
  },
  {
   "cell_type": "code",
   "execution_count": 65,
   "metadata": {},
   "outputs": [
    {
     "name": "stdout",
     "output_type": "stream",
     "text": [
      "Train on 7062 samples, validate on 2354 samples\n",
      "Epoch 1/40\n",
      "WARNING:tensorflow:Method (on_train_batch_end) is slow compared to the batch update (0.760730). Check your callbacks.\n",
      "  32/7062 [..............................] - ETA: 4:34 - loss: 0.7004 - binary_accuracy: 0.4688WARNING:tensorflow:Method (on_train_batch_end) is slow compared to the batch update (0.380380). Check your callbacks.\n",
      "7062/7062 [==============================] - 2s 283us/sample - loss: 0.6579 - binary_accuracy: 0.5810 - val_loss: 0.6462 - val_binary_accuracy: 0.5960\n",
      "Epoch 2/40\n",
      "7062/7062 [==============================] - 1s 99us/sample - loss: 0.6321 - binary_accuracy: 0.6080 - val_loss: 0.6323 - val_binary_accuracy: 0.6083\n",
      "Epoch 3/40\n",
      "7062/7062 [==============================] - 1s 90us/sample - loss: 0.6226 - binary_accuracy: 0.6202 - val_loss: 0.6358 - val_binary_accuracy: 0.6037\n",
      "Epoch 4/40\n",
      "7062/7062 [==============================] - 1s 91us/sample - loss: 0.6158 - binary_accuracy: 0.6273 - val_loss: 0.6452 - val_binary_accuracy: 0.5760\n",
      "Epoch 5/40\n",
      "7062/7062 [==============================] - 1s 104us/sample - loss: 0.6076 - binary_accuracy: 0.6364 - val_loss: 0.6371 - val_binary_accuracy: 0.6083\n",
      "Epoch 6/40\n",
      "7062/7062 [==============================] - 1s 87us/sample - loss: 0.5998 - binary_accuracy: 0.6450 - val_loss: 0.6384 - val_binary_accuracy: 0.6117\n",
      "Epoch 7/40\n",
      "7062/7062 [==============================] - 1s 91us/sample - loss: 0.5883 - binary_accuracy: 0.6549 - val_loss: 0.6563 - val_binary_accuracy: 0.6066\n",
      "Epoch 8/40\n",
      "7062/7062 [==============================] - 1s 88us/sample - loss: 0.5787 - binary_accuracy: 0.6661 - val_loss: 0.6661 - val_binary_accuracy: 0.5947\n",
      "Epoch 9/40\n",
      "7062/7062 [==============================] - 1s 94us/sample - loss: 0.5663 - binary_accuracy: 0.6753 - val_loss: 0.6751 - val_binary_accuracy: 0.5918\n",
      "Epoch 10/40\n",
      "7062/7062 [==============================] - 1s 87us/sample - loss: 0.5560 - binary_accuracy: 0.6862 - val_loss: 0.6914 - val_binary_accuracy: 0.6071\n",
      "Epoch 11/40\n",
      "7062/7062 [==============================] - 1s 92us/sample - loss: 0.5409 - binary_accuracy: 0.7015 - val_loss: 0.7079 - val_binary_accuracy: 0.5845\n",
      "Epoch 12/40\n",
      "7062/7062 [==============================] - 1s 88us/sample - loss: 0.5284 - binary_accuracy: 0.7048 - val_loss: 0.7312 - val_binary_accuracy: 0.5905\n"
     ]
    },
    {
     "data": {
      "text/plain": [
       "<tensorflow.python.keras.callbacks.History at 0x149fd6be0>"
      ]
     },
     "execution_count": 65,
     "metadata": {},
     "output_type": "execute_result"
    }
   ],
   "source": [
    "model.fit(x=X, y=y, batch_size=32, validation_split=0.25, epochs=40, \n",
    "          callbacks=[WandbCallback(), tf.keras.callbacks.EarlyStopping(patience=10, restore_best_weights=True)])"
   ]
  },
  {
   "cell_type": "code",
   "execution_count": null,
   "metadata": {},
   "outputs": [],
   "source": []
  }
 ],
 "metadata": {
  "kernelspec": {
   "display_name": "Python 3",
   "language": "python",
   "name": "python3"
  },
  "language_info": {
   "codemirror_mode": {
    "name": "ipython",
    "version": 3
   },
   "file_extension": ".py",
   "mimetype": "text/x-python",
   "name": "python",
   "nbconvert_exporter": "python",
   "pygments_lexer": "ipython3",
   "version": "3.7.2"
  }
 },
 "nbformat": 4,
 "nbformat_minor": 4
}
