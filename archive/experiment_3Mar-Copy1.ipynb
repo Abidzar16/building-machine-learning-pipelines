{
 "cells": [
  {
   "cell_type": "code",
   "execution_count": 1,
   "metadata": {},
   "outputs": [],
   "source": [
    "import pandas as pd\n",
    "import os\n",
    "import sys\n",
    "import tensorflow as tf\n",
    "import numpy as np"
   ]
  },
  {
   "cell_type": "code",
   "execution_count": 2,
   "metadata": {},
   "outputs": [],
   "source": [
    "import wandb\n",
    "from wandb.keras import WandbCallback"
   ]
  },
  {
   "cell_type": "code",
   "execution_count": 3,
   "metadata": {},
   "outputs": [],
   "source": [
    "nb_dir = os.path.split(os.getcwd())[0]\n",
    "if nb_dir not in sys.path:\n",
    "    sys.path.append(nb_dir)"
   ]
  },
  {
   "cell_type": "code",
   "execution_count": 107,
   "metadata": {},
   "outputs": [],
   "source": [
    "feature_names = [\"product\", \"sub_product\", \"issue\", \"sub_issue\", \"state\", \"zip_code\", \"company\", \"company_response\", \"timely_response\", \"consumer_disputed\"]\n",
    "cat_features = [\"sub_product\", \"state\", \"issue\", \"company\"]#, \"sub_issue\"]\n",
    "#bucket_features = ['zip_code']\n",
    "one_hot_features = ['product', 'company_response', 'timely_response', 'zip_code_short']"
   ]
  },
  {
   "cell_type": "code",
   "execution_count": 7,
   "metadata": {},
   "outputs": [],
   "source": [
    "#df = pd.read_csv('../data/21Feb/26k-consumer-complaints-labels.csv', usecols=feature_names, na_values=0, keep_default_na=False)\n",
    "df = pd.read_csv('../data/29Feb/cc_large_balanced.csv', usecols=feature_names, na_values=0, keep_default_na=False)"
   ]
  },
  {
   "cell_type": "code",
   "execution_count": 18,
   "metadata": {},
   "outputs": [],
   "source": [
    "df['zip_code_short'] = df['zip_code'].apply(lambda x: str(x)[0] if len(x)>0 else np.nan)"
   ]
  },
  {
   "cell_type": "code",
   "execution_count": 108,
   "metadata": {},
   "outputs": [],
   "source": [
    "top_n = 100\n",
    "top_companies = df['company'].value_counts().head(top_n).index.tolist()\n",
    "df.loc[~df['company'].isin(top_companies), 'company'] = 'Other'"
   ]
  },
  {
   "cell_type": "code",
   "execution_count": 109,
   "metadata": {},
   "outputs": [],
   "source": [
    "for feature in cat_features + one_hot_features:\n",
    "    df[feature] = df[feature].astype(\"category\").cat.codes"
   ]
  },
  {
   "cell_type": "code",
   "execution_count": 110,
   "metadata": {},
   "outputs": [],
   "source": [
    "one_hot_x = [pd.np.asarray(tf.keras.utils.to_categorical(df[feature_name].values)) for feature_name in one_hot_features]"
   ]
  },
  {
   "cell_type": "code",
   "execution_count": 111,
   "metadata": {},
   "outputs": [],
   "source": [
    "embedding_x = [pd.np.asarray(df[feature_name].values).reshape(-1) for feature_name in cat_features]#[:-1]"
   ]
  },
  {
   "cell_type": "code",
   "execution_count": 101,
   "metadata": {},
   "outputs": [
    {
     "data": {
      "text/plain": [
       "4"
      ]
     },
     "execution_count": 101,
     "metadata": {},
     "output_type": "execute_result"
    }
   ],
   "source": [
    "len(one_hot_x)"
   ]
  },
  {
   "cell_type": "code",
   "execution_count": 112,
   "metadata": {},
   "outputs": [],
   "source": [
    "X = one_hot_x + embedding_x"
   ]
  },
  {
   "cell_type": "code",
   "execution_count": 43,
   "metadata": {},
   "outputs": [],
   "source": [
    "y = np.asarray(df[\"consumer_disputed\"], dtype=np.uint8).reshape(-1)"
   ]
  },
  {
   "cell_type": "code",
   "execution_count": 103,
   "metadata": {},
   "outputs": [],
   "source": [
    "def wide_and_deep_model(show_summary=True):\n",
    "    \"\"\"\n",
    "    Function defines a Keras model and returns the model as Keras object\n",
    "    \"\"\"\n",
    "    wandb.init(project=\"consumer-complaints\")\n",
    "    config = wandb.config\n",
    "    config.name='test_wide_and_deep'\n",
    "    #config.hidden_layer_size = 256\n",
    "    config.optimizer = 'adam'\n",
    "    config.learning_rate = 0.001\n",
    "    config.data_version = 'cc_large_balanced'\n",
    "    config.one_hot_features = one_hot_features\n",
    "    config.cat_features = cat_features\n",
    "\n",
    "    #cat_features = [\"sub_product\", \"state\", \"issue\", \"company\", \"sub_issue\"]\n",
    "    # one_hot_features = ['product', 'company_response', 'timely_response', 'company', 'issue', 'zip_code_short']\n",
    "\n",
    "    # one-hot categorical features\n",
    "    num_products = 11\n",
    "    num_company_responses = 5\n",
    "    num_timely_responses = 2\n",
    "    num_companies = 41\n",
    "    num_issues = 40\n",
    "    num_zip_codes = 15\n",
    "\n",
    "    input_product = tf.keras.Input(shape=(num_products,), name=\"product_xf\")\n",
    "    input_company_response = tf.keras.Input(shape=(num_company_responses,), name=\"company_response_xf\")\n",
    "    input_timely_response = tf.keras.Input(shape=(num_timely_responses,), name=\"timely_response_xf\")\n",
    "    input_zip_code = tf.keras.Input(shape=(num_zip_codes,), name=\"zip_code_xf\")\n",
    "\n",
    "    # categorical features\n",
    "    input_sub_product = tf.keras.Input(shape=(1,), name=\"sub_product_xf\")\n",
    "    input_state = tf.keras.Input(shape=(1,), name=\"state_xf\")\n",
    "    input_issue = tf.keras.Input(shape=(1,), name=\"issue_xf\")\n",
    "    input_company = tf.keras.Input(shape=(1,), name=\"company_xf\")\n",
    "    #input_sub_issue = tf.keras.Input(shape=(1,), name=\"sub_issue_xf\")\n",
    "\n",
    "\n",
    "    # convert to embeddings\n",
    "    embed_sub_product = tf.keras.layers.Embedding(70, 35)(input_sub_product)\n",
    "    embed_sub_product = tf.keras.layers.Reshape((35, ), input_shape=(1, 35))(embed_sub_product)\n",
    "\n",
    "    embed_state = tf.keras.layers.Embedding(70, 35)(input_state)\n",
    "    embed_state = tf.keras.layers.Reshape((35, ), input_shape=(1, 35))(embed_state)\n",
    "    \n",
    "    embed_issue = tf.keras.layers.Embedding(100, 50)(input_issue)\n",
    "    embed_issue = tf.keras.layers.Reshape((50, ), input_shape=(1, 50))(embed_issue)\n",
    "    \n",
    "    #embed_company = tf.keras.layers.Embedding(110, 50)(input_company)\n",
    "    #embed_company = tf.keras.layers.Reshape((50, ), input_shape=(1, 50))(embed_company)\n",
    "    \n",
    "    #embed_sub_issue = tf.keras.layers.Embedding(70, 35)(input_sub_issue)\n",
    "    #embed_sub_issue = tf.keras.layers.Reshape((35, ), input_shape=(1, 35))(embed_sub_issue)\n",
    "    \n",
    "    # add USE for narrative, and reduce number of dimensions\n",
    "    \n",
    "    deep_ff = tf.keras.layers.concatenate(\n",
    "        [embed_sub_product, embed_state, embed_issue])#, embed_company, embed_sub_issue])\n",
    "    \n",
    "    deep = tf.keras.layers.Dense(64, activation='relu')(deep_ff)\n",
    "    deep = tf.keras.layers.Dense(16, activation='relu')(deep)\n",
    "    #deep = tf.keras.layers.Dense(16, activation='relu')(deep)\n",
    "\n",
    "    wide = tf.keras.layers.concatenate(\n",
    "        [input_product, input_company_response, input_timely_response, input_zip_code])\n",
    "\n",
    "    both = tf.keras.layers.concatenate([deep, wide])\n",
    "\n",
    "    output = tf.keras.layers.Dense(1, activation='sigmoid')(both) \n",
    "\n",
    "    _inputs = [input_product, input_company_response, input_timely_response, input_zip_code, \n",
    "               input_sub_product, input_state, \n",
    "              input_issue]#, input_company, input_sub_issue] \n",
    "\n",
    "    keras_model = tf.keras.models.Model(_inputs, output)\n",
    "    keras_model.compile(optimizer=tf.keras.optimizers.Adam(learning_rate=0.001),\n",
    "                     loss='binary_crossentropy',  # categorical_crossentropy\n",
    "                     metrics=[\n",
    "                         tf.keras.metrics.BinaryAccuracy(),\n",
    "                         ])\n",
    "    if show_summary:\n",
    "        keras_model.summary()\n",
    "\n",
    "    return keras_model"
   ]
  },
  {
   "cell_type": "code",
   "execution_count": 104,
   "metadata": {},
   "outputs": [
    {
     "data": {
      "text/html": [
       "\n",
       "                Logging results to <a href=\"https://wandb.com\" target=\"_blank\">Weights & Biases</a> <a href=\"https://docs.wandb.com/integrations/jupyter.html\" target=\"_blank\">(Documentation)</a>.<br/>\n",
       "                Project page: <a href=\"https://app.wandb.ai/drcat101/consumer-complaints\" target=\"_blank\">https://app.wandb.ai/drcat101/consumer-complaints</a><br/>\n",
       "                Run page: <a href=\"https://app.wandb.ai/drcat101/consumer-complaints/runs/xzcez0dg\" target=\"_blank\">https://app.wandb.ai/drcat101/consumer-complaints/runs/xzcez0dg</a><br/>\n",
       "            "
      ],
      "text/plain": [
       "<IPython.core.display.HTML object>"
      ]
     },
     "metadata": {},
     "output_type": "display_data"
    }
   ],
   "source": [
    "model = wide_and_deep_model(show_summary=False)"
   ]
  },
  {
   "cell_type": "code",
   "execution_count": 105,
   "metadata": {},
   "outputs": [
    {
     "name": "stdout",
     "output_type": "stream",
     "text": [
      "Train on 96169 samples, validate on 24043 samples\n",
      "Epoch 1/40\n",
      "WARNING:tensorflow:Method (on_train_batch_end) is slow compared to the batch update (0.663245). Check your callbacks.\n",
      "  128/96169 [..............................] - ETA: 15:04 - loss: 0.7312 - binary_accuracy: 0.4844WARNING:tensorflow:Method (on_train_batch_end) is slow compared to the batch update (0.331636). Check your callbacks.\n",
      "96169/96169 [==============================] - 3s 34us/sample - loss: 0.6854 - binary_accuracy: 0.5532 - val_loss: 0.6762 - val_binary_accuracy: 0.5781\n",
      "Epoch 2/40\n",
      "96169/96169 [==============================] - 2s 17us/sample - loss: 0.6754 - binary_accuracy: 0.5775 - val_loss: 0.6758 - val_binary_accuracy: 0.5746\n",
      "Epoch 3/40\n",
      "96169/96169 [==============================] - 2s 16us/sample - loss: 0.6735 - binary_accuracy: 0.5782 - val_loss: 0.6736 - val_binary_accuracy: 0.5815\n",
      "Epoch 4/40\n",
      "96169/96169 [==============================] - 1s 15us/sample - loss: 0.6724 - binary_accuracy: 0.5796 - val_loss: 0.6745 - val_binary_accuracy: 0.5776\n",
      "Epoch 5/40\n",
      "96169/96169 [==============================] - 2s 16us/sample - loss: 0.6718 - binary_accuracy: 0.5809 - val_loss: 0.6737 - val_binary_accuracy: 0.5773\n",
      "Epoch 6/40\n",
      "96169/96169 [==============================] - 2s 16us/sample - loss: 0.6710 - binary_accuracy: 0.5822 - val_loss: 0.6748 - val_binary_accuracy: 0.5770\n",
      "Epoch 7/40\n",
      "96169/96169 [==============================] - 2s 23us/sample - loss: 0.6704 - binary_accuracy: 0.5841 - val_loss: 0.6736 - val_binary_accuracy: 0.5800\n",
      "Epoch 8/40\n",
      "96169/96169 [==============================] - 2s 21us/sample - loss: 0.6698 - binary_accuracy: 0.5834 - val_loss: 0.6740 - val_binary_accuracy: 0.5745\n",
      "Epoch 9/40\n",
      "96169/96169 [==============================] - 2s 18us/sample - loss: 0.6690 - binary_accuracy: 0.5853 - val_loss: 0.6745 - val_binary_accuracy: 0.5761\n",
      "Epoch 10/40\n",
      "96169/96169 [==============================] - 2s 20us/sample - loss: 0.6685 - binary_accuracy: 0.5845 - val_loss: 0.6746 - val_binary_accuracy: 0.5790\n",
      "Epoch 11/40\n",
      "96169/96169 [==============================] - 2s 21us/sample - loss: 0.6677 - binary_accuracy: 0.5858 - val_loss: 0.6752 - val_binary_accuracy: 0.5750\n",
      "Epoch 12/40\n",
      "96169/96169 [==============================] - 2s 17us/sample - loss: 0.6672 - binary_accuracy: 0.5869 - val_loss: 0.6752 - val_binary_accuracy: 0.5772\n"
     ]
    },
    {
     "data": {
      "text/plain": [
       "<tensorflow.python.keras.callbacks.History at 0x141499160>"
      ]
     },
     "execution_count": 105,
     "metadata": {},
     "output_type": "execute_result"
    }
   ],
   "source": [
    "model.fit(x=X, y=y, batch_size=128, validation_split=0.2, epochs=40, \n",
    "          callbacks=[WandbCallback(), tf.keras.callbacks.EarlyStopping(patience=5, restore_best_weights=True)])"
   ]
  },
  {
   "cell_type": "code",
   "execution_count": null,
   "metadata": {},
   "outputs": [],
   "source": []
  }
 ],
 "metadata": {
  "kernelspec": {
   "display_name": "Python 3",
   "language": "python",
   "name": "python3"
  },
  "language_info": {
   "codemirror_mode": {
    "name": "ipython",
    "version": 3
   },
   "file_extension": ".py",
   "mimetype": "text/x-python",
   "name": "python",
   "nbconvert_exporter": "python",
   "pygments_lexer": "ipython3",
   "version": "3.7.2"
  }
 },
 "nbformat": 4,
 "nbformat_minor": 4
}
