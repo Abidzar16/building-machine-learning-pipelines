{
 "cells": [
  {
   "cell_type": "code",
   "execution_count": 1,
   "metadata": {},
   "outputs": [],
   "source": [
    "import pandas as pd"
   ]
  },
  {
   "cell_type": "code",
   "execution_count": 2,
   "metadata": {},
   "outputs": [],
   "source": [
    "df = pd.read_csv(\"../data/consumer_complaints_with_narrative.csv\")"
   ]
  },
  {
   "cell_type": "code",
   "execution_count": 6,
   "metadata": {},
   "outputs": [],
   "source": [
    "zipcode = df[\"zip_code\"].to_list()"
   ]
  },
  {
   "cell_type": "code",
   "execution_count": 7,
   "metadata": {},
   "outputs": [],
   "source": [
    "from collections import Counter"
   ]
  },
  {
   "cell_type": "code",
   "execution_count": 10,
   "metadata": {},
   "outputs": [
    {
     "data": {
      "text/plain": [
       "[('300XX', 1026),\n",
       " ('750XX', 792),\n",
       " ('770XX', 747),\n",
       " ('900XX', 719),\n",
       " ('945XX', 703),\n",
       " ('331XX', 677),\n",
       " ('606XX', 659),\n",
       " ('891XX', 658),\n",
       " ('330XX', 649),\n",
       " ('207XX', 581)]"
      ]
     },
     "execution_count": 10,
     "metadata": {},
     "output_type": "execute_result"
    }
   ],
   "source": [
    "Counter(zipcode).most_common(10)"
   ]
  },
  {
   "cell_type": "code",
   "execution_count": 24,
   "metadata": {},
   "outputs": [
    {
     "name": "stdout",
     "output_type": "stream",
     "text": [
      "[29XX\n",
      "`29XX\n",
      "[36XX\n",
      "85-XX\n",
      "9*3XX\n",
      "07.XX\n",
      "91+XX\n"
     ]
    }
   ],
   "source": [
    "flat_list = []\n",
    "for l in zipcode:\n",
    "    try:\n",
    "        flat_list.extend(l)\n",
    "        if \"*\" in l:\n",
    "            print(l)\n",
    "        if \"+\" in l:\n",
    "            print(l)\n",
    "        if \"-\" in l:\n",
    "            print(l)\n",
    "        if \"[\" in l:\n",
    "            print(l)\n",
    "        if \".\" in l:\n",
    "            print(l)\n",
    "        if \"`\" in l:\n",
    "            print(l)\n",
    "    except TypeError:\n",
    "        # print(l)\n",
    "        pass"
   ]
  },
  {
   "cell_type": "code",
   "execution_count": 21,
   "metadata": {},
   "outputs": [
    {
     "data": {
      "text/plain": [
       "{'*',\n",
       " '+',\n",
       " '-',\n",
       " '.',\n",
       " '0',\n",
       " '1',\n",
       " '2',\n",
       " '3',\n",
       " '4',\n",
       " '5',\n",
       " '6',\n",
       " '7',\n",
       " '8',\n",
       " '9',\n",
       " 'X',\n",
       " '[',\n",
       " '`'}"
      ]
     },
     "execution_count": 21,
     "metadata": {},
     "output_type": "execute_result"
    }
   ],
   "source": [
    "set(flat_list)"
   ]
  },
  {
   "cell_type": "code",
   "execution_count": null,
   "metadata": {},
   "outputs": [],
   "source": []
  }
 ],
 "metadata": {
  "kernelspec": {
   "display_name": "'Python Interactive'",
   "language": "python",
   "name": "18b48369-13a3-4d98-8d69-3d740e22fe49"
  },
  "language_info": {
   "codemirror_mode": {
    "name": "ipython",
    "version": 3
   },
   "file_extension": ".py",
   "mimetype": "text/x-python",
   "name": "python",
   "nbconvert_exporter": "python",
   "pygments_lexer": "ipython3",
   "version": "3.7.5"
  }
 },
 "nbformat": 4,
 "nbformat_minor": 2
}
