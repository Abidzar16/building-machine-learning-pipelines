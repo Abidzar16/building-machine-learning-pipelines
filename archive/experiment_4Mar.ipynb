{
 "cells": [
  {
   "cell_type": "code",
   "execution_count": 1,
   "metadata": {},
   "outputs": [],
   "source": [
    "import pandas as pd\n",
    "import os\n",
    "import sys\n",
    "import tensorflow as tf\n",
    "import numpy as np\n",
    "import tensorflow_hub as hub"
   ]
  },
  {
   "cell_type": "code",
   "execution_count": 2,
   "metadata": {},
   "outputs": [],
   "source": [
    "import wandb\n",
    "from wandb.keras import WandbCallback"
   ]
  },
  {
   "cell_type": "code",
   "execution_count": 3,
   "metadata": {},
   "outputs": [],
   "source": [
    "nb_dir = os.path.split(os.getcwd())[0]\n",
    "if nb_dir not in sys.path:\n",
    "    sys.path.append(nb_dir)"
   ]
  },
  {
   "cell_type": "code",
   "execution_count": 4,
   "metadata": {},
   "outputs": [],
   "source": [
    "feature_names = [\"product\", \"sub_product\", \"issue\", \"sub_issue\", \"state\", \"zip_code\", \"company\", \"company_response\", \"timely_response\", \"consumer_disputed\", \"consumer_complaint_narrative\"]\n",
    "cat_features = [\"sub_product\", \"state\", \"issue\"]#, \"company\", \"sub_issue\"]\n",
    "#bucket_features = ['zip_code']\n",
    "text_features = ['consumer_complaint_narrative']\n",
    "one_hot_features = ['product', 'company_response', 'timely_response']# , 'zip_code_short']"
   ]
  },
  {
   "cell_type": "code",
   "execution_count": 17,
   "metadata": {},
   "outputs": [],
   "source": [
    "#df = pd.read_csv('../data/21Feb/26k-consumer-complaints-labels.csv', usecols=feature_names, na_values=0, keep_default_na=False)\n",
    "#df = pd.read_csv('../data/29Feb/cc_large_balanced.csv', usecols=feature_names, na_values=0, keep_default_na=False)\n",
    "df = pd.read_csv('../data/29Feb/cc_balanced_narrative.csv', usecols=feature_names, na_values=0, keep_default_na=False)"
   ]
  },
  {
   "cell_type": "code",
   "execution_count": null,
   "metadata": {},
   "outputs": [],
   "source": [
    "df[df['consumer_disputed']==1].head()"
   ]
  },
  {
   "cell_type": "code",
   "execution_count": 20,
   "metadata": {},
   "outputs": [],
   "source": [
    "df['consumer_disputed'] = df['consumer_disputed'].fillna(0)"
   ]
  },
  {
   "cell_type": "code",
   "execution_count": 16,
   "metadata": {},
   "outputs": [
    {
     "name": "stdout",
     "output_type": "stream",
     "text": [
      "sub_product\n",
      "45\n",
      "state\n",
      "61\n",
      "issue\n",
      "88\n"
     ]
    }
   ],
   "source": [
    "for col in cat_features:\n",
    "    print(col)\n",
    "    print(df[col].nunique())"
   ]
  },
  {
   "cell_type": "code",
   "execution_count": 32,
   "metadata": {},
   "outputs": [
    {
     "data": {
      "text/plain": [
       "48    3666\n",
       "24    3455\n",
       "54    3187\n",
       "53    2482\n",
       "37    1498\n",
       "      ... \n",
       "5        3\n",
       "2        2\n",
       "56       2\n",
       "77       1\n",
       "52       1\n",
       "Name: issue, Length: 88, dtype: int64"
      ]
     },
     "execution_count": 32,
     "metadata": {},
     "output_type": "execute_result"
    }
   ],
   "source": [
    "df['issue'].value_counts()"
   ]
  },
  {
   "cell_type": "code",
   "execution_count": 21,
   "metadata": {},
   "outputs": [
    {
     "data": {
      "text/plain": [
       "1.0    15577\n",
       "0.0    15577\n",
       "Name: consumer_disputed, dtype: int64"
      ]
     },
     "execution_count": 21,
     "metadata": {},
     "output_type": "execute_result"
    }
   ],
   "source": [
    "df['consumer_disputed'].value_counts()"
   ]
  },
  {
   "cell_type": "code",
   "execution_count": 22,
   "metadata": {},
   "outputs": [],
   "source": [
    "top_n = 100\n",
    "top_companies = df['company'].value_counts().head(top_n).index.tolist()\n",
    "df.loc[~df['company'].isin(top_companies), 'company'] = 'Other'"
   ]
  },
  {
   "cell_type": "code",
   "execution_count": 23,
   "metadata": {},
   "outputs": [],
   "source": [
    "for feature in cat_features + one_hot_features:\n",
    "    df[feature] = df[feature].astype(\"category\").cat.codes"
   ]
  },
  {
   "cell_type": "code",
   "execution_count": 24,
   "metadata": {},
   "outputs": [],
   "source": [
    "one_hot_x = [pd.np.asarray(tf.keras.utils.to_categorical(df[feature_name].values)) for feature_name in one_hot_features]"
   ]
  },
  {
   "cell_type": "code",
   "execution_count": 25,
   "metadata": {},
   "outputs": [],
   "source": [
    "embedding_x = [pd.np.asarray(df[feature_name].values).reshape(-1) for feature_name in cat_features +text_features]#[:-1]"
   ]
  },
  {
   "cell_type": "code",
   "execution_count": 26,
   "metadata": {},
   "outputs": [
    {
     "data": {
      "text/plain": [
       "3"
      ]
     },
     "execution_count": 26,
     "metadata": {},
     "output_type": "execute_result"
    }
   ],
   "source": [
    "len(one_hot_x)"
   ]
  },
  {
   "cell_type": "code",
   "execution_count": 27,
   "metadata": {},
   "outputs": [],
   "source": [
    "X = one_hot_x + embedding_x"
   ]
  },
  {
   "cell_type": "code",
   "execution_count": 28,
   "metadata": {},
   "outputs": [],
   "source": [
    "y = np.asarray(df[\"consumer_disputed\"], dtype=np.uint8).reshape(-1)"
   ]
  },
  {
   "cell_type": "code",
   "execution_count": 29,
   "metadata": {},
   "outputs": [],
   "source": [
    "def wide_and_deep_model(show_summary=True):\n",
    "    \"\"\"\n",
    "    Function defines a Keras model and returns the model as Keras object\n",
    "    \"\"\"\n",
    "    wandb.init(project=\"consumer-complaints\")\n",
    "    config = wandb.config\n",
    "    config.name='test_wide_and_deep_with_narrative'\n",
    "    #config.hidden_layer_size = 256\n",
    "    config.optimizer = 'adam'\n",
    "    config.learning_rate = 0.001\n",
    "    config.data_version = 'cc_balanced_narrative'\n",
    "    config.one_hot_features = one_hot_features\n",
    "    config.cat_features = cat_features\n",
    "\n",
    "    #cat_features = [\"sub_product\", \"state\", \"issue\", \"company\", \"sub_issue\"]\n",
    "    # one_hot_features = ['product', 'company_response', 'timely_response', 'company', 'issue', 'zip_code_short']\n",
    "\n",
    "    # one-hot categorical features\n",
    "    num_products = 11\n",
    "    num_company_responses = 5\n",
    "    num_timely_responses = 2\n",
    "    num_companies = 41\n",
    "    num_issues = 40\n",
    "    num_zip_codes = 15\n",
    "\n",
    "    input_product = tf.keras.Input(shape=(num_products,), name=\"product_xf\")\n",
    "    input_company_response = tf.keras.Input(shape=(num_company_responses,), name=\"company_response_xf\")\n",
    "    input_timely_response = tf.keras.Input(shape=(num_timely_responses,), name=\"timely_response_xf\")\n",
    "    #input_zip_code = tf.keras.Input(shape=(num_zip_codes,), name=\"zip_code_xf\")\n",
    "\n",
    "    # categorical features\n",
    "    input_sub_product = tf.keras.Input(shape=(1,), name=\"sub_product_xf\")\n",
    "    input_state = tf.keras.Input(shape=(1,), name=\"state_xf\")\n",
    "    input_issue = tf.keras.Input(shape=(1,), name=\"issue_xf\")\n",
    "    #input_company = tf.keras.Input(shape=(1,), name=\"company_xf\")\n",
    "    #input_sub_issue = tf.keras.Input(shape=(1,), name=\"sub_issue_xf\")\n",
    "    input_narrative = tf.keras.Input(shape=(1,), name=\"narrative_xf\", dtype=tf.string)\n",
    "\n",
    "    # convert to embeddings\n",
    "    embed_sub_product = tf.keras.layers.Embedding(75, 35)(input_sub_product)\n",
    "    embed_sub_product = tf.keras.layers.Reshape((35, ), input_shape=(1, 35))(embed_sub_product)\n",
    "\n",
    "    embed_state = tf.keras.layers.Embedding(75, 35)(input_state)\n",
    "    embed_state = tf.keras.layers.Reshape((35, ), input_shape=(1, 35))(embed_state)\n",
    "    \n",
    "    embed_issue = tf.keras.layers.Embedding(100, 50)(input_issue)\n",
    "    embed_issue = tf.keras.layers.Reshape((50, ), input_shape=(1, 50))(embed_issue)\n",
    "    \n",
    "    #embed_company = tf.keras.layers.Embedding(110, 50)(input_company)\n",
    "    #embed_company = tf.keras.layers.Reshape((50, ), input_shape=(1, 50))(embed_company)\n",
    "    \n",
    "    #embed_sub_issue = tf.keras.layers.Embedding(70, 35)(input_sub_issue)\n",
    "    #embed_sub_issue = tf.keras.layers.Reshape((35, ), input_shape=(1, 35))(embed_sub_issue)\n",
    "    \n",
    "    # add USE for narrative, and reduce number of dimensions\n",
    "    module_url = \"https://tfhub.dev/google/universal-sentence-encoder/4\"\n",
    "    embed = hub.KerasLayer(module_url)\n",
    "    reshaped_narrative = tf.reshape(input_narrative, [-1])\n",
    "    embed_narrative = embed(reshaped_narrative) \n",
    "    embed_narrative = tf.keras.layers.Reshape((512, ), input_shape=(1, 512))(embed_narrative)\n",
    "\n",
    "    \n",
    "    deep_ff = tf.keras.layers.concatenate(\n",
    "        [embed_sub_product, embed_state, embed_issue, embed_narrative])#embed_company, embed_sub_issue])\n",
    "    \n",
    "    deep = tf.keras.layers.Dense(256, activation='relu')(deep_ff)\n",
    "    deep = tf.keras.layers.Dense(64, activation='relu')(deep)\n",
    "    deep = tf.keras.layers.Dense(16, activation='relu')(deep)\n",
    "\n",
    "    wide = tf.keras.layers.concatenate(\n",
    "        [input_product, input_company_response, input_timely_response])#, input_zip_code])\n",
    "\n",
    "    both = tf.keras.layers.concatenate([deep, wide])\n",
    "\n",
    "    output = tf.keras.layers.Dense(1, activation='sigmoid')(both) \n",
    "\n",
    "    _inputs = [input_product, input_company_response, input_timely_response,# input_zip_code, \n",
    "               input_sub_product, input_state, \n",
    "              input_issue, input_narrative]#input_company, input_sub_issue] \n",
    "\n",
    "    keras_model = tf.keras.models.Model(_inputs, output)\n",
    "    keras_model.compile(optimizer=tf.keras.optimizers.Adam(learning_rate=0.001),\n",
    "                     loss='binary_crossentropy',  # categorical_crossentropy\n",
    "                     metrics=[\n",
    "                         tf.keras.metrics.BinaryAccuracy(),\n",
    "                         ])\n",
    "    if show_summary:\n",
    "        keras_model.summary()\n",
    "\n",
    "    return keras_model"
   ]
  },
  {
   "cell_type": "code",
   "execution_count": 30,
   "metadata": {},
   "outputs": [
    {
     "data": {
      "text/html": [
       "\n",
       "                Logging results to <a href=\"https://wandb.com\" target=\"_blank\">Weights & Biases</a> <a href=\"https://docs.wandb.com/integrations/jupyter.html\" target=\"_blank\">(Documentation)</a>.<br/>\n",
       "                Project page: <a href=\"https://app.wandb.ai/drcat101/consumer-complaints\" target=\"_blank\">https://app.wandb.ai/drcat101/consumer-complaints</a><br/>\n",
       "                Run page: <a href=\"https://app.wandb.ai/drcat101/consumer-complaints/runs/grfd7s92\" target=\"_blank\">https://app.wandb.ai/drcat101/consumer-complaints/runs/grfd7s92</a><br/>\n",
       "            "
      ],
      "text/plain": [
       "<IPython.core.display.HTML object>"
      ]
     },
     "metadata": {},
     "output_type": "display_data"
    }
   ],
   "source": [
    "model = wide_and_deep_model(show_summary=False)"
   ]
  },
  {
   "cell_type": "code",
   "execution_count": 31,
   "metadata": {},
   "outputs": [
    {
     "name": "stdout",
     "output_type": "stream",
     "text": [
      "Train on 24923 samples, validate on 6231 samples\n",
      "Epoch 1/40\n",
      "  128/24923 [..............................] - ETA: 10:08 - loss: 0.6926 - binary_accuracy: 0.5391WARNING:tensorflow:Method (on_train_batch_end) is slow compared to the batch update (0.365593). Check your callbacks.\n"
     ]
    },
    {
     "name": "stderr",
     "output_type": "stream",
     "text": [
      "WARNING:tensorflow:Method (on_train_batch_end) is slow compared to the batch update (0.365593). Check your callbacks.\n"
     ]
    },
    {
     "name": "stdout",
     "output_type": "stream",
     "text": [
      "24923/24923 [==============================] - 37s 1ms/sample - loss: 0.6743 - binary_accuracy: 0.5764 - val_loss: 0.6614 - val_binary_accuracy: 0.5980\n",
      "Epoch 2/40\n",
      "24923/24923 [==============================] - 33s 1ms/sample - loss: 0.6562 - binary_accuracy: 0.6082 - val_loss: 0.6576 - val_binary_accuracy: 0.6052\n",
      "Epoch 3/40\n",
      "24923/24923 [==============================] - 33s 1ms/sample - loss: 0.6482 - binary_accuracy: 0.6200 - val_loss: 0.6566 - val_binary_accuracy: 0.6052\n",
      "Epoch 4/40\n",
      "24923/24923 [==============================] - 34s 1ms/sample - loss: 0.6421 - binary_accuracy: 0.6272 - val_loss: 0.6524 - val_binary_accuracy: 0.6105\n",
      "Epoch 5/40\n",
      "24923/24923 [==============================] - 33s 1ms/sample - loss: 0.6358 - binary_accuracy: 0.6347 - val_loss: 0.6550 - val_binary_accuracy: 0.6108\n",
      "Epoch 6/40\n",
      "24923/24923 [==============================] - 33s 1ms/sample - loss: 0.6282 - binary_accuracy: 0.6399 - val_loss: 0.6585 - val_binary_accuracy: 0.6074\n",
      "Epoch 7/40\n",
      "24923/24923 [==============================] - 32s 1ms/sample - loss: 0.6188 - binary_accuracy: 0.6539 - val_loss: 0.6615 - val_binary_accuracy: 0.6055\n",
      "Epoch 8/40\n",
      "24923/24923 [==============================] - 33s 1ms/sample - loss: 0.6084 - binary_accuracy: 0.6652 - val_loss: 0.6635 - val_binary_accuracy: 0.6089\n",
      "Epoch 9/40\n",
      "24923/24923 [==============================] - 35s 1ms/sample - loss: 0.5971 - binary_accuracy: 0.6787 - val_loss: 0.6697 - val_binary_accuracy: 0.6097\n"
     ]
    },
    {
     "data": {
      "text/plain": [
       "<tensorflow.python.keras.callbacks.History at 0x1a2b213c8>"
      ]
     },
     "execution_count": 31,
     "metadata": {},
     "output_type": "execute_result"
    }
   ],
   "source": [
    "model.fit(x=X, y=y, batch_size=128, validation_split=0.2, epochs=40, \n",
    "          callbacks=[WandbCallback(), tf.keras.callbacks.EarlyStopping(patience=5, restore_best_weights=True)])"
   ]
  },
  {
   "cell_type": "code",
   "execution_count": null,
   "metadata": {},
   "outputs": [],
   "source": []
  }
 ],
 "metadata": {
  "kernelspec": {
   "display_name": "Python 3",
   "language": "python",
   "name": "python3"
  },
  "language_info": {
   "codemirror_mode": {
    "name": "ipython",
    "version": 3
   },
   "file_extension": ".py",
   "mimetype": "text/x-python",
   "name": "python",
   "nbconvert_exporter": "python",
   "pygments_lexer": "ipython3",
   "version": "3.7.2"
  }
 },
 "nbformat": 4,
 "nbformat_minor": 4
}
