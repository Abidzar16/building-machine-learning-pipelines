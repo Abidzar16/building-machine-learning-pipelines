{
 "cells": [
  {
   "cell_type": "markdown",
   "metadata": {},
   "source": [
    "source: https://www.kaggle.com/cfpb/us-consumer-finance-complaints"
   ]
  },
  {
   "cell_type": "code",
   "execution_count": 1,
   "metadata": {},
   "outputs": [],
   "source": [
    "import pandas as pd\n",
    "import os\n",
    "import sys"
   ]
  },
  {
   "cell_type": "code",
   "execution_count": 2,
   "metadata": {},
   "outputs": [],
   "source": [
    "nb_dir = os.path.split(os.getcwd())[0]\n",
    "if nb_dir not in sys.path:\n",
    "    sys.path.append(nb_dir)"
   ]
  },
  {
   "cell_type": "code",
   "execution_count": 3,
   "metadata": {},
   "outputs": [],
   "source": [
    "feature_cols=[\"product\", \"sub_product\", \"issue\", \"sub_issue\", \"state\", \"zipcode\", \"company\", \"company_response_to_consumer\", \"timely_response\", \"consumer_disputed?\", \"consumer_complaint_narrative\"]\n"
   ]
  },
  {
   "cell_type": "code",
   "execution_count": 67,
   "metadata": {},
   "outputs": [
    {
     "name": "stderr",
     "output_type": "stream",
     "text": [
      "/Users/i854694/.virtualenvs/pipelines/lib/python3.7/site-packages/IPython/core/interactiveshell.py:3063: DtypeWarning: Columns (5) have mixed types. Specify dtype option on import or set low_memory=False.\n",
      "  interactivity=interactivity, compiler=compiler, result=result)\n"
     ]
    }
   ],
   "source": [
    "df = pd.read_csv('../data/29Feb/consumer_complaints_kaggle.csv', usecols=feature_cols)"
   ]
  },
  {
   "cell_type": "code",
   "execution_count": 68,
   "metadata": {},
   "outputs": [],
   "source": [
    "df = df.rename({'consumer_disputed?': 'consumer_disputed', 'zipcode':'zip_code', \n",
    "                'company_response_to_consumer': 'company_response'}, axis=1)"
   ]
  },
  {
   "cell_type": "code",
   "execution_count": 69,
   "metadata": {},
   "outputs": [
    {
     "data": {
      "text/html": [
       "<div>\n",
       "<style scoped>\n",
       "    .dataframe tbody tr th:only-of-type {\n",
       "        vertical-align: middle;\n",
       "    }\n",
       "\n",
       "    .dataframe tbody tr th {\n",
       "        vertical-align: top;\n",
       "    }\n",
       "\n",
       "    .dataframe thead th {\n",
       "        text-align: right;\n",
       "    }\n",
       "</style>\n",
       "<table border=\"1\" class=\"dataframe\">\n",
       "  <thead>\n",
       "    <tr style=\"text-align: right;\">\n",
       "      <th></th>\n",
       "      <th>product</th>\n",
       "      <th>sub_product</th>\n",
       "      <th>issue</th>\n",
       "      <th>sub_issue</th>\n",
       "      <th>consumer_complaint_narrative</th>\n",
       "      <th>company</th>\n",
       "      <th>state</th>\n",
       "      <th>zip_code</th>\n",
       "      <th>company_response</th>\n",
       "      <th>timely_response</th>\n",
       "      <th>consumer_disputed</th>\n",
       "    </tr>\n",
       "  </thead>\n",
       "  <tbody>\n",
       "    <tr>\n",
       "      <th>0</th>\n",
       "      <td>Mortgage</td>\n",
       "      <td>Other mortgage</td>\n",
       "      <td>Loan modification,collection,foreclosure</td>\n",
       "      <td>NaN</td>\n",
       "      <td>NaN</td>\n",
       "      <td>U.S. Bancorp</td>\n",
       "      <td>CA</td>\n",
       "      <td>95993</td>\n",
       "      <td>Closed with explanation</td>\n",
       "      <td>Yes</td>\n",
       "      <td>Yes</td>\n",
       "    </tr>\n",
       "    <tr>\n",
       "      <th>1</th>\n",
       "      <td>Mortgage</td>\n",
       "      <td>Other mortgage</td>\n",
       "      <td>Loan servicing, payments, escrow account</td>\n",
       "      <td>NaN</td>\n",
       "      <td>NaN</td>\n",
       "      <td>Wells Fargo &amp; Company</td>\n",
       "      <td>CA</td>\n",
       "      <td>91104</td>\n",
       "      <td>Closed with explanation</td>\n",
       "      <td>Yes</td>\n",
       "      <td>Yes</td>\n",
       "    </tr>\n",
       "    <tr>\n",
       "      <th>2</th>\n",
       "      <td>Credit reporting</td>\n",
       "      <td>NaN</td>\n",
       "      <td>Incorrect information on credit report</td>\n",
       "      <td>Account status</td>\n",
       "      <td>NaN</td>\n",
       "      <td>Wells Fargo &amp; Company</td>\n",
       "      <td>NY</td>\n",
       "      <td>11764</td>\n",
       "      <td>Closed with explanation</td>\n",
       "      <td>Yes</td>\n",
       "      <td>No</td>\n",
       "    </tr>\n",
       "    <tr>\n",
       "      <th>3</th>\n",
       "      <td>Student loan</td>\n",
       "      <td>Non-federal student loan</td>\n",
       "      <td>Repaying your loan</td>\n",
       "      <td>Repaying your loan</td>\n",
       "      <td>NaN</td>\n",
       "      <td>Navient Solutions, Inc.</td>\n",
       "      <td>MD</td>\n",
       "      <td>21402</td>\n",
       "      <td>Closed with explanation</td>\n",
       "      <td>Yes</td>\n",
       "      <td>Yes</td>\n",
       "    </tr>\n",
       "    <tr>\n",
       "      <th>4</th>\n",
       "      <td>Debt collection</td>\n",
       "      <td>Credit card</td>\n",
       "      <td>False statements or representation</td>\n",
       "      <td>Attempted to collect wrong amount</td>\n",
       "      <td>NaN</td>\n",
       "      <td>Resurgent Capital Services L.P.</td>\n",
       "      <td>GA</td>\n",
       "      <td>30106</td>\n",
       "      <td>Closed with explanation</td>\n",
       "      <td>Yes</td>\n",
       "      <td>Yes</td>\n",
       "    </tr>\n",
       "  </tbody>\n",
       "</table>\n",
       "</div>"
      ],
      "text/plain": [
       "            product               sub_product  \\\n",
       "0          Mortgage            Other mortgage   \n",
       "1          Mortgage            Other mortgage   \n",
       "2  Credit reporting                       NaN   \n",
       "3      Student loan  Non-federal student loan   \n",
       "4   Debt collection               Credit card   \n",
       "\n",
       "                                      issue  \\\n",
       "0  Loan modification,collection,foreclosure   \n",
       "1  Loan servicing, payments, escrow account   \n",
       "2    Incorrect information on credit report   \n",
       "3                        Repaying your loan   \n",
       "4        False statements or representation   \n",
       "\n",
       "                           sub_issue consumer_complaint_narrative  \\\n",
       "0                                NaN                          NaN   \n",
       "1                                NaN                          NaN   \n",
       "2                     Account status                          NaN   \n",
       "3                 Repaying your loan                          NaN   \n",
       "4  Attempted to collect wrong amount                          NaN   \n",
       "\n",
       "                           company state zip_code         company_response  \\\n",
       "0                     U.S. Bancorp    CA    95993  Closed with explanation   \n",
       "1            Wells Fargo & Company    CA    91104  Closed with explanation   \n",
       "2            Wells Fargo & Company    NY    11764  Closed with explanation   \n",
       "3          Navient Solutions, Inc.    MD    21402  Closed with explanation   \n",
       "4  Resurgent Capital Services L.P.    GA    30106  Closed with explanation   \n",
       "\n",
       "  timely_response consumer_disputed  \n",
       "0             Yes               Yes  \n",
       "1             Yes               Yes  \n",
       "2             Yes                No  \n",
       "3             Yes               Yes  \n",
       "4             Yes               Yes  "
      ]
     },
     "execution_count": 69,
     "metadata": {},
     "output_type": "execute_result"
    }
   ],
   "source": [
    "df.head()"
   ]
  },
  {
   "cell_type": "code",
   "execution_count": 7,
   "metadata": {},
   "outputs": [
    {
     "data": {
      "text/plain": [
       "555957"
      ]
     },
     "execution_count": 7,
     "metadata": {},
     "output_type": "execute_result"
    }
   ],
   "source": [
    "len(df)"
   ]
  },
  {
   "cell_type": "code",
   "execution_count": 8,
   "metadata": {},
   "outputs": [
    {
     "data": {
      "text/plain": [
       "66806"
      ]
     },
     "execution_count": 8,
     "metadata": {},
     "output_type": "execute_result"
    }
   ],
   "source": [
    "df['consumer_complaint_narrative'].notnull().sum()"
   ]
  },
  {
   "cell_type": "code",
   "execution_count": 43,
   "metadata": {},
   "outputs": [],
   "source": [
    "df = df[df['consumer_complaint_narrative'].notnull()]"
   ]
  },
  {
   "cell_type": "code",
   "execution_count": 44,
   "metadata": {},
   "outputs": [
    {
     "data": {
      "text/plain": [
       "No     51229\n",
       "Yes    15577\n",
       "Name: consumer_disputed, dtype: int64"
      ]
     },
     "execution_count": 44,
     "metadata": {},
     "output_type": "execute_result"
    }
   ],
   "source": [
    "df['consumer_disputed'].value_counts()"
   ]
  },
  {
   "cell_type": "code",
   "execution_count": 11,
   "metadata": {},
   "outputs": [],
   "source": [
    "df['c'] = df['consumer_disputed'].map({'Yes': 1, 'No': 0})\n",
    "df = df.drop('consumer_disputed', axis=1)\n",
    "df = df.rename(columns={\"c\": \"consumer_disputed\"})"
   ]
  },
  {
   "cell_type": "code",
   "execution_count": 36,
   "metadata": {},
   "outputs": [],
   "source": [
    "df_top = df[:300000]"
   ]
  },
  {
   "cell_type": "code",
   "execution_count": 37,
   "metadata": {},
   "outputs": [
    {
     "data": {
      "text/plain": [
       "0    239894\n",
       "1     60106\n",
       "Name: consumer_disputed, dtype: int64"
      ]
     },
     "execution_count": 37,
     "metadata": {},
     "output_type": "execute_result"
    }
   ],
   "source": [
    "df_top['consumer_disputed'].value_counts()"
   ]
  },
  {
   "cell_type": "code",
   "execution_count": 51,
   "metadata": {},
   "outputs": [],
   "source": [
    "df_majority = df[df['consumer_disputed']==0]\n",
    "df_minority = df[df['consumer_disputed']==1]\n",
    "df_majority = df_majority.sample(n=15577, replace=False)\n",
    "df_resampled = pd.concat([df_majority, df_minority])\n",
    "df_resampled = df_resampled.sample(frac=1).reset_index(drop=True)\n"
   ]
  },
  {
   "cell_type": "code",
   "execution_count": 52,
   "metadata": {},
   "outputs": [
    {
     "data": {
      "text/html": [
       "<div>\n",
       "<style scoped>\n",
       "    .dataframe tbody tr th:only-of-type {\n",
       "        vertical-align: middle;\n",
       "    }\n",
       "\n",
       "    .dataframe tbody tr th {\n",
       "        vertical-align: top;\n",
       "    }\n",
       "\n",
       "    .dataframe thead th {\n",
       "        text-align: right;\n",
       "    }\n",
       "</style>\n",
       "<table border=\"1\" class=\"dataframe\">\n",
       "  <thead>\n",
       "    <tr style=\"text-align: right;\">\n",
       "      <th></th>\n",
       "      <th>product</th>\n",
       "      <th>sub_product</th>\n",
       "      <th>issue</th>\n",
       "      <th>sub_issue</th>\n",
       "      <th>consumer_complaint_narrative</th>\n",
       "      <th>company</th>\n",
       "      <th>state</th>\n",
       "      <th>zip_code</th>\n",
       "      <th>company_response</th>\n",
       "      <th>timely_response</th>\n",
       "      <th>consumer_disputed</th>\n",
       "    </tr>\n",
       "  </thead>\n",
       "  <tbody>\n",
       "    <tr>\n",
       "      <th>0</th>\n",
       "      <td>Bank account or service</td>\n",
       "      <td>Other bank product/service</td>\n",
       "      <td>Account opening, closing, or management</td>\n",
       "      <td>NaN</td>\n",
       "      <td>My ex-husband opened an account for our XXXX c...</td>\n",
       "      <td>Wells Fargo &amp; Company</td>\n",
       "      <td>CA</td>\n",
       "      <td>959XX</td>\n",
       "      <td>Closed with explanation</td>\n",
       "      <td>Yes</td>\n",
       "      <td>0</td>\n",
       "    </tr>\n",
       "    <tr>\n",
       "      <th>1</th>\n",
       "      <td>Debt collection</td>\n",
       "      <td>Credit card</td>\n",
       "      <td>Cont'd attempts collect debt not owed</td>\n",
       "      <td>Debt resulted from identity theft</td>\n",
       "      <td>I was a victim of identity theft, I have alrea...</td>\n",
       "      <td>ROCKY POINT CAPITAL LLC</td>\n",
       "      <td>VA</td>\n",
       "      <td>222XX</td>\n",
       "      <td>Untimely response</td>\n",
       "      <td>No</td>\n",
       "      <td>0</td>\n",
       "    </tr>\n",
       "    <tr>\n",
       "      <th>2</th>\n",
       "      <td>Consumer Loan</td>\n",
       "      <td>Vehicle lease</td>\n",
       "      <td>Managing the loan or lease</td>\n",
       "      <td>NaN</td>\n",
       "      <td>I have been leasing a XXXX Chevrolet Volt thro...</td>\n",
       "      <td>Ally Financial Inc.</td>\n",
       "      <td>CA</td>\n",
       "      <td>940XX</td>\n",
       "      <td>Closed with explanation</td>\n",
       "      <td>Yes</td>\n",
       "      <td>0</td>\n",
       "    </tr>\n",
       "    <tr>\n",
       "      <th>3</th>\n",
       "      <td>Credit reporting</td>\n",
       "      <td>NaN</td>\n",
       "      <td>Incorrect information on credit report</td>\n",
       "      <td>Information is not mine</td>\n",
       "      <td>XXXX is reporting erroneous on my credit repor...</td>\n",
       "      <td>Equifax</td>\n",
       "      <td>NY</td>\n",
       "      <td>133XX</td>\n",
       "      <td>Closed with explanation</td>\n",
       "      <td>Yes</td>\n",
       "      <td>0</td>\n",
       "    </tr>\n",
       "    <tr>\n",
       "      <th>4</th>\n",
       "      <td>Credit reporting</td>\n",
       "      <td>NaN</td>\n",
       "      <td>Incorrect information on credit report</td>\n",
       "      <td>Account status</td>\n",
       "      <td>XXXX XXXX offers help in conjunction with the ...</td>\n",
       "      <td>Experian</td>\n",
       "      <td>GA</td>\n",
       "      <td>312XX</td>\n",
       "      <td>Closed with explanation</td>\n",
       "      <td>Yes</td>\n",
       "      <td>1</td>\n",
       "    </tr>\n",
       "  </tbody>\n",
       "</table>\n",
       "</div>"
      ],
      "text/plain": [
       "                   product                 sub_product  \\\n",
       "0  Bank account or service  Other bank product/service   \n",
       "1          Debt collection                 Credit card   \n",
       "2            Consumer Loan               Vehicle lease   \n",
       "3         Credit reporting                         NaN   \n",
       "4         Credit reporting                         NaN   \n",
       "\n",
       "                                     issue                          sub_issue  \\\n",
       "0  Account opening, closing, or management                                NaN   \n",
       "1    Cont'd attempts collect debt not owed  Debt resulted from identity theft   \n",
       "2               Managing the loan or lease                                NaN   \n",
       "3   Incorrect information on credit report            Information is not mine   \n",
       "4   Incorrect information on credit report                     Account status   \n",
       "\n",
       "                        consumer_complaint_narrative                  company  \\\n",
       "0  My ex-husband opened an account for our XXXX c...    Wells Fargo & Company   \n",
       "1  I was a victim of identity theft, I have alrea...  ROCKY POINT CAPITAL LLC   \n",
       "2  I have been leasing a XXXX Chevrolet Volt thro...      Ally Financial Inc.   \n",
       "3  XXXX is reporting erroneous on my credit repor...                  Equifax   \n",
       "4  XXXX XXXX offers help in conjunction with the ...                 Experian   \n",
       "\n",
       "  state zip_code         company_response timely_response  consumer_disputed  \n",
       "0    CA    959XX  Closed with explanation             Yes                  0  \n",
       "1    VA    222XX        Untimely response              No                  0  \n",
       "2    CA    940XX  Closed with explanation             Yes                  0  \n",
       "3    NY    133XX  Closed with explanation             Yes                  0  \n",
       "4    GA    312XX  Closed with explanation             Yes                  1  "
      ]
     },
     "execution_count": 52,
     "metadata": {},
     "output_type": "execute_result"
    }
   ],
   "source": [
    "df_resampled.head()"
   ]
  },
  {
   "cell_type": "code",
   "execution_count": 53,
   "metadata": {},
   "outputs": [
    {
     "data": {
      "text/plain": [
       "31154"
      ]
     },
     "execution_count": 53,
     "metadata": {},
     "output_type": "execute_result"
    }
   ],
   "source": [
    "len(df_resampled)"
   ]
  },
  {
   "cell_type": "code",
   "execution_count": 54,
   "metadata": {},
   "outputs": [],
   "source": [
    "df_resampled.to_csv('../data/29Feb/cc_balanced_narrative.csv', index=False)"
   ]
  },
  {
   "cell_type": "code",
   "execution_count": null,
   "metadata": {},
   "outputs": [],
   "source": [
    "# todo clean zip code"
   ]
  },
  {
   "cell_type": "code",
   "execution_count": 70,
   "metadata": {},
   "outputs": [
    {
     "data": {
      "text/plain": [
       "300XX    1205\n",
       "48382     927\n",
       "750XX     898\n",
       "770XX     845\n",
       "900XX     845\n",
       "         ... \n",
       "50439       1\n",
       "02070       1\n",
       "47020       1\n",
       "54245       1\n",
       "03771       1\n",
       "Name: zip_code, Length: 27052, dtype: int64"
      ]
     },
     "execution_count": 70,
     "metadata": {},
     "output_type": "execute_result"
    }
   ],
   "source": [
    "df['zip_code'].value_counts()"
   ]
  },
  {
   "cell_type": "code",
   "execution_count": 71,
   "metadata": {},
   "outputs": [],
   "source": [
    "df['zip_code'] = df['zip_code'].str.replace('X', '0', regex=True)"
   ]
  },
  {
   "cell_type": "code",
   "execution_count": 91,
   "metadata": {},
   "outputs": [],
   "source": [
    "df['zip_code'] = df['zip_code'].str.replace(r'\\[|\\*|\\+|\\-|`|\\.|\\ |\\$|\\/|!|\\(', '0', regex=True)"
   ]
  },
  {
   "cell_type": "code",
   "execution_count": 92,
   "metadata": {},
   "outputs": [],
   "source": [
    "df['zip_code'] = df['zip_code'].fillna(0)"
   ]
  },
  {
   "cell_type": "code",
   "execution_count": 93,
   "metadata": {},
   "outputs": [],
   "source": [
    "df['zip_code'] = df['zip_code'].astype('int32')"
   ]
  },
  {
   "cell_type": "code",
   "execution_count": 65,
   "metadata": {},
   "outputs": [
    {
     "data": {
      "text/plain": [
       "33874"
      ]
     },
     "execution_count": 65,
     "metadata": {},
     "output_type": "execute_result"
    }
   ],
   "source": [
    "df['sub_issue'].isna().sum()"
   ]
  },
  {
   "cell_type": "code",
   "execution_count": 66,
   "metadata": {},
   "outputs": [
    {
     "data": {
      "text/plain": [
       "Yes    64638\n",
       "No      2168\n",
       "Name: timely_response, dtype: int64"
      ]
     },
     "execution_count": 66,
     "metadata": {},
     "output_type": "execute_result"
    }
   ],
   "source": [
    "df['timely_response'].value_counts()"
   ]
  },
  {
   "cell_type": "code",
   "execution_count": 94,
   "metadata": {},
   "outputs": [
    {
     "data": {
      "text/html": [
       "<div>\n",
       "<style scoped>\n",
       "    .dataframe tbody tr th:only-of-type {\n",
       "        vertical-align: middle;\n",
       "    }\n",
       "\n",
       "    .dataframe tbody tr th {\n",
       "        vertical-align: top;\n",
       "    }\n",
       "\n",
       "    .dataframe thead th {\n",
       "        text-align: right;\n",
       "    }\n",
       "</style>\n",
       "<table border=\"1\" class=\"dataframe\">\n",
       "  <thead>\n",
       "    <tr style=\"text-align: right;\">\n",
       "      <th></th>\n",
       "      <th>product</th>\n",
       "      <th>sub_product</th>\n",
       "      <th>issue</th>\n",
       "      <th>sub_issue</th>\n",
       "      <th>consumer_complaint_narrative</th>\n",
       "      <th>company</th>\n",
       "      <th>state</th>\n",
       "      <th>zip_code</th>\n",
       "      <th>company_response</th>\n",
       "      <th>timely_response</th>\n",
       "      <th>consumer_disputed</th>\n",
       "    </tr>\n",
       "  </thead>\n",
       "  <tbody>\n",
       "    <tr>\n",
       "      <th>555952</th>\n",
       "      <td>Mortgage</td>\n",
       "      <td>Other mortgage</td>\n",
       "      <td>Loan modification,collection,foreclosure</td>\n",
       "      <td>NaN</td>\n",
       "      <td>NaN</td>\n",
       "      <td>Bank of America</td>\n",
       "      <td>NaN</td>\n",
       "      <td>0</td>\n",
       "      <td>Closed with explanation</td>\n",
       "      <td>Yes</td>\n",
       "      <td>No</td>\n",
       "    </tr>\n",
       "    <tr>\n",
       "      <th>555953</th>\n",
       "      <td>Mortgage</td>\n",
       "      <td>Other mortgage</td>\n",
       "      <td>Loan servicing, payments, escrow account</td>\n",
       "      <td>NaN</td>\n",
       "      <td>NaN</td>\n",
       "      <td>Residential Credit Solutions</td>\n",
       "      <td>NaN</td>\n",
       "      <td>0</td>\n",
       "      <td>Closed with explanation</td>\n",
       "      <td>No</td>\n",
       "      <td>No</td>\n",
       "    </tr>\n",
       "    <tr>\n",
       "      <th>555954</th>\n",
       "      <td>Mortgage</td>\n",
       "      <td>Conventional fixed mortgage</td>\n",
       "      <td>Loan modification,collection,foreclosure</td>\n",
       "      <td>NaN</td>\n",
       "      <td>NaN</td>\n",
       "      <td>BB&amp;T Financial</td>\n",
       "      <td>NaN</td>\n",
       "      <td>0</td>\n",
       "      <td>Closed with explanation</td>\n",
       "      <td>Yes</td>\n",
       "      <td>No</td>\n",
       "    </tr>\n",
       "    <tr>\n",
       "      <th>555955</th>\n",
       "      <td>Debt collection</td>\n",
       "      <td>I do not know</td>\n",
       "      <td>Communication tactics</td>\n",
       "      <td>Frequent or repeated calls</td>\n",
       "      <td>NaN</td>\n",
       "      <td>Global Recovery Group</td>\n",
       "      <td>NaN</td>\n",
       "      <td>0</td>\n",
       "      <td>Untimely response</td>\n",
       "      <td>No</td>\n",
       "      <td>No</td>\n",
       "    </tr>\n",
       "    <tr>\n",
       "      <th>555956</th>\n",
       "      <td>Debt collection</td>\n",
       "      <td>I do not know</td>\n",
       "      <td>Cont'd attempts collect debt not owed</td>\n",
       "      <td>Debt is not mine</td>\n",
       "      <td>NaN</td>\n",
       "      <td>CCS Financial Services, Inc.</td>\n",
       "      <td>NaN</td>\n",
       "      <td>0</td>\n",
       "      <td>Closed with explanation</td>\n",
       "      <td>Yes</td>\n",
       "      <td>No</td>\n",
       "    </tr>\n",
       "  </tbody>\n",
       "</table>\n",
       "</div>"
      ],
      "text/plain": [
       "                product                  sub_product  \\\n",
       "555952         Mortgage               Other mortgage   \n",
       "555953         Mortgage               Other mortgage   \n",
       "555954         Mortgage  Conventional fixed mortgage   \n",
       "555955  Debt collection                I do not know   \n",
       "555956  Debt collection                I do not know   \n",
       "\n",
       "                                           issue                   sub_issue  \\\n",
       "555952  Loan modification,collection,foreclosure                         NaN   \n",
       "555953  Loan servicing, payments, escrow account                         NaN   \n",
       "555954  Loan modification,collection,foreclosure                         NaN   \n",
       "555955                     Communication tactics  Frequent or repeated calls   \n",
       "555956     Cont'd attempts collect debt not owed            Debt is not mine   \n",
       "\n",
       "       consumer_complaint_narrative                       company state  \\\n",
       "555952                          NaN               Bank of America   NaN   \n",
       "555953                          NaN  Residential Credit Solutions   NaN   \n",
       "555954                          NaN                BB&T Financial   NaN   \n",
       "555955                          NaN         Global Recovery Group   NaN   \n",
       "555956                          NaN  CCS Financial Services, Inc.   NaN   \n",
       "\n",
       "        zip_code         company_response timely_response consumer_disputed  \n",
       "555952         0  Closed with explanation             Yes                No  \n",
       "555953         0  Closed with explanation              No                No  \n",
       "555954         0  Closed with explanation             Yes                No  \n",
       "555955         0        Untimely response              No                No  \n",
       "555956         0  Closed with explanation             Yes                No  "
      ]
     },
     "execution_count": 94,
     "metadata": {},
     "output_type": "execute_result"
    }
   ],
   "source": [
    "df.tail()"
   ]
  },
  {
   "cell_type": "code",
   "execution_count": null,
   "metadata": {},
   "outputs": [],
   "source": [
    "df = df.sample(frac=1, replace=False).reset_index(drop=True)"
   ]
  },
  {
   "cell_type": "code",
   "execution_count": 47,
   "metadata": {},
   "outputs": [],
   "source": [
    "df.to_csv('../data/6Mar/consumer_complaints_with_narrative.csv', index=False)"
   ]
  },
  {
   "cell_type": "code",
   "execution_count": null,
   "metadata": {},
   "outputs": [],
   "source": []
  }
 ],
 "metadata": {
  "kernelspec": {
   "display_name": "Python 3",
   "language": "python",
   "name": "python3"
  },
  "language_info": {
   "codemirror_mode": {
    "name": "ipython",
    "version": 3
   },
   "file_extension": ".py",
   "mimetype": "text/x-python",
   "name": "python",
   "nbconvert_exporter": "python",
   "pygments_lexer": "ipython3",
   "version": "3.7.2"
  }
 },
 "nbformat": 4,
 "nbformat_minor": 4
}
