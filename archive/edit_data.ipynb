{
 "cells": [
  {
   "cell_type": "code",
   "execution_count": 2,
   "metadata": {},
   "outputs": [
    {
     "ename": "ModuleNotFoundError",
     "evalue": "No module named 'pandas'",
     "output_type": "error",
     "traceback": [
      "\u001b[0;31m---------------------------------------------------------------------------\u001b[0m",
      "\u001b[0;31mModuleNotFoundError\u001b[0m                       Traceback (most recent call last)",
      "\u001b[0;32m<ipython-input-2-baf368f80de7>\u001b[0m in \u001b[0;36m<module>\u001b[0;34m\u001b[0m\n\u001b[0;32m----> 1\u001b[0;31m \u001b[0;32mimport\u001b[0m \u001b[0mpandas\u001b[0m \u001b[0;32mas\u001b[0m \u001b[0mpd\u001b[0m\u001b[0;34m\u001b[0m\u001b[0;34m\u001b[0m\u001b[0m\n\u001b[0m\u001b[1;32m      2\u001b[0m \u001b[0;32mimport\u001b[0m \u001b[0mnumpy\u001b[0m \u001b[0;32mas\u001b[0m \u001b[0mnp\u001b[0m\u001b[0;34m\u001b[0m\u001b[0;34m\u001b[0m\u001b[0m\n",
      "\u001b[0;31mModuleNotFoundError\u001b[0m: No module named 'pandas'"
     ]
    }
   ],
   "source": [
    "import pandas as pd\n",
    "import numpy as np"
   ]
  },
  {
   "cell_type": "code",
   "execution_count": 12,
   "metadata": {},
   "outputs": [],
   "source": [
    "df = pd.read_csv('data/original/26k-consumer-complaints-modified.csv')"
   ]
  },
  {
   "cell_type": "code",
   "execution_count": 13,
   "metadata": {},
   "outputs": [
    {
     "data": {
      "text/html": [
       "<div>\n",
       "<style scoped>\n",
       "    .dataframe tbody tr th:only-of-type {\n",
       "        vertical-align: middle;\n",
       "    }\n",
       "\n",
       "    .dataframe tbody tr th {\n",
       "        vertical-align: top;\n",
       "    }\n",
       "\n",
       "    .dataframe thead th {\n",
       "        text-align: right;\n",
       "    }\n",
       "</style>\n",
       "<table border=\"1\" class=\"dataframe\">\n",
       "  <thead>\n",
       "    <tr style=\"text-align: right;\">\n",
       "      <th></th>\n",
       "      <th>col_0</th>\n",
       "      <th>complaint_id</th>\n",
       "      <th>product</th>\n",
       "      <th>sub_product</th>\n",
       "      <th>issue</th>\n",
       "      <th>sub_issue</th>\n",
       "      <th>state</th>\n",
       "      <th>zip_code</th>\n",
       "      <th>date_received</th>\n",
       "      <th>date_sent_to_company</th>\n",
       "      <th>company</th>\n",
       "      <th>company_response</th>\n",
       "      <th>timely_response</th>\n",
       "      <th>consumer_disputed</th>\n",
       "    </tr>\n",
       "  </thead>\n",
       "  <tbody>\n",
       "    <tr>\n",
       "      <th>0</th>\n",
       "      <td>0</td>\n",
       "      <td>1291006</td>\n",
       "      <td>Debt collection</td>\n",
       "      <td>NaN</td>\n",
       "      <td>Communication tactics</td>\n",
       "      <td>Frequent or repeated calls</td>\n",
       "      <td>TX</td>\n",
       "      <td>76119</td>\n",
       "      <td>2015-03-19</td>\n",
       "      <td>2015-03-19</td>\n",
       "      <td>Premium Asset Services, LLC</td>\n",
       "      <td>In progress</td>\n",
       "      <td>Yes</td>\n",
       "      <td>NaN</td>\n",
       "    </tr>\n",
       "    <tr>\n",
       "      <th>1</th>\n",
       "      <td>1</td>\n",
       "      <td>1290580</td>\n",
       "      <td>Debt collection</td>\n",
       "      <td>Medical</td>\n",
       "      <td>Cont'd attempts collect debt not owed</td>\n",
       "      <td>Debt is not mine</td>\n",
       "      <td>TX</td>\n",
       "      <td>77479</td>\n",
       "      <td>2015-03-19</td>\n",
       "      <td>2015-03-19</td>\n",
       "      <td>Accounts Receivable Consultants Inc.</td>\n",
       "      <td>Closed with explanation</td>\n",
       "      <td>Yes</td>\n",
       "      <td>NaN</td>\n",
       "    </tr>\n",
       "    <tr>\n",
       "      <th>2</th>\n",
       "      <td>2</td>\n",
       "      <td>1290564</td>\n",
       "      <td>Mortgage</td>\n",
       "      <td>FHA mortgage</td>\n",
       "      <td>Application, originator, mortgage broker</td>\n",
       "      <td>NaN</td>\n",
       "      <td>MA</td>\n",
       "      <td>2127</td>\n",
       "      <td>2015-03-19</td>\n",
       "      <td>2015-03-19</td>\n",
       "      <td>RBS Citizens</td>\n",
       "      <td>Closed with explanation</td>\n",
       "      <td>Yes</td>\n",
       "      <td>Yes</td>\n",
       "    </tr>\n",
       "    <tr>\n",
       "      <th>3</th>\n",
       "      <td>3</td>\n",
       "      <td>1291615</td>\n",
       "      <td>Credit card</td>\n",
       "      <td>NaN</td>\n",
       "      <td>Other</td>\n",
       "      <td>NaN</td>\n",
       "      <td>CA</td>\n",
       "      <td>92592</td>\n",
       "      <td>2015-03-19</td>\n",
       "      <td>2015-03-19</td>\n",
       "      <td>Navy FCU</td>\n",
       "      <td>In progress</td>\n",
       "      <td>Yes</td>\n",
       "      <td>NaN</td>\n",
       "    </tr>\n",
       "    <tr>\n",
       "      <th>4</th>\n",
       "      <td>4</td>\n",
       "      <td>1292165</td>\n",
       "      <td>Debt collection</td>\n",
       "      <td>Non-federal student loan</td>\n",
       "      <td>Cont'd attempts collect debt not owed</td>\n",
       "      <td>Debt resulted from identity theft</td>\n",
       "      <td>NaN</td>\n",
       "      <td>43068</td>\n",
       "      <td>2015-03-19</td>\n",
       "      <td>2015-03-19</td>\n",
       "      <td>Transworld Systems Inc.</td>\n",
       "      <td>In progress</td>\n",
       "      <td>Yes</td>\n",
       "      <td>NaN</td>\n",
       "    </tr>\n",
       "  </tbody>\n",
       "</table>\n",
       "</div>"
      ],
      "text/plain": [
       "   col_0  complaint_id          product               sub_product  \\\n",
       "0      0       1291006  Debt collection                       NaN   \n",
       "1      1       1290580  Debt collection                   Medical   \n",
       "2      2       1290564         Mortgage              FHA mortgage   \n",
       "3      3       1291615      Credit card                       NaN   \n",
       "4      4       1292165  Debt collection  Non-federal student loan   \n",
       "\n",
       "                                      issue  \\\n",
       "0                     Communication tactics   \n",
       "1     Cont'd attempts collect debt not owed   \n",
       "2  Application, originator, mortgage broker   \n",
       "3                                     Other   \n",
       "4     Cont'd attempts collect debt not owed   \n",
       "\n",
       "                           sub_issue state  zip_code date_received  \\\n",
       "0         Frequent or repeated calls    TX     76119    2015-03-19   \n",
       "1                   Debt is not mine    TX     77479    2015-03-19   \n",
       "2                                NaN    MA      2127    2015-03-19   \n",
       "3                                NaN    CA     92592    2015-03-19   \n",
       "4  Debt resulted from identity theft   NaN     43068    2015-03-19   \n",
       "\n",
       "  date_sent_to_company                               company  \\\n",
       "0           2015-03-19           Premium Asset Services, LLC   \n",
       "1           2015-03-19  Accounts Receivable Consultants Inc.   \n",
       "2           2015-03-19                          RBS Citizens   \n",
       "3           2015-03-19                              Navy FCU   \n",
       "4           2015-03-19               Transworld Systems Inc.   \n",
       "\n",
       "          company_response timely_response consumer_disputed  \n",
       "0              In progress             Yes               NaN  \n",
       "1  Closed with explanation             Yes               NaN  \n",
       "2  Closed with explanation             Yes               Yes  \n",
       "3              In progress             Yes               NaN  \n",
       "4              In progress             Yes               NaN  "
      ]
     },
     "execution_count": 13,
     "metadata": {},
     "output_type": "execute_result"
    }
   ],
   "source": [
    "df.head()"
   ]
  },
  {
   "cell_type": "code",
   "execution_count": 14,
   "metadata": {},
   "outputs": [],
   "source": [
    "df = df.drop('col_0', axis=1)"
   ]
  },
  {
   "cell_type": "code",
   "execution_count": 15,
   "metadata": {},
   "outputs": [],
   "source": [
    "df['c'] = df['cosumer_disputed'].map({'Yes': 1, 'No': 0})b"
   ]
  },
  {
   "cell_type": "code",
   "execution_count": 24,
   "metadata": {},
   "outputs": [],
   "source": [
    "df['consumer_disputed'] = df['consumer_disputed'].fillna(0)"
   ]
  },
  {
   "cell_type": "code",
   "execution_count": 16,
   "metadata": {},
   "outputs": [],
   "source": [
    "df = df.drop('consumer_disputed', axis=1)"
   ]
  },
  {
   "cell_type": "code",
   "execution_count": 17,
   "metadata": {},
   "outputs": [],
   "source": [
    "df = df.rename(columns={\"c\": \"consumer_disputed\"})\n"
   ]
  },
  {
   "cell_type": "code",
   "execution_count": 25,
   "metadata": {},
   "outputs": [
    {
     "data": {
      "text/html": [
       "<div>\n",
       "<style scoped>\n",
       "    .dataframe tbody tr th:only-of-type {\n",
       "        vertical-align: middle;\n",
       "    }\n",
       "\n",
       "    .dataframe tbody tr th {\n",
       "        vertical-align: top;\n",
       "    }\n",
       "\n",
       "    .dataframe thead th {\n",
       "        text-align: right;\n",
       "    }\n",
       "</style>\n",
       "<table border=\"1\" class=\"dataframe\">\n",
       "  <thead>\n",
       "    <tr style=\"text-align: right;\">\n",
       "      <th></th>\n",
       "      <th>complaint_id</th>\n",
       "      <th>product</th>\n",
       "      <th>sub_product</th>\n",
       "      <th>issue</th>\n",
       "      <th>sub_issue</th>\n",
       "      <th>state</th>\n",
       "      <th>zip_code</th>\n",
       "      <th>date_received</th>\n",
       "      <th>date_sent_to_company</th>\n",
       "      <th>company</th>\n",
       "      <th>company_response</th>\n",
       "      <th>timely_response</th>\n",
       "      <th>consumer_disputed</th>\n",
       "    </tr>\n",
       "  </thead>\n",
       "  <tbody>\n",
       "    <tr>\n",
       "      <th>0</th>\n",
       "      <td>1291006</td>\n",
       "      <td>Debt collection</td>\n",
       "      <td>NaN</td>\n",
       "      <td>Communication tactics</td>\n",
       "      <td>Frequent or repeated calls</td>\n",
       "      <td>TX</td>\n",
       "      <td>76119</td>\n",
       "      <td>2015-03-19</td>\n",
       "      <td>2015-03-19</td>\n",
       "      <td>Premium Asset Services, LLC</td>\n",
       "      <td>In progress</td>\n",
       "      <td>Yes</td>\n",
       "      <td>0.0</td>\n",
       "    </tr>\n",
       "    <tr>\n",
       "      <th>1</th>\n",
       "      <td>1290580</td>\n",
       "      <td>Debt collection</td>\n",
       "      <td>Medical</td>\n",
       "      <td>Cont'd attempts collect debt not owed</td>\n",
       "      <td>Debt is not mine</td>\n",
       "      <td>TX</td>\n",
       "      <td>77479</td>\n",
       "      <td>2015-03-19</td>\n",
       "      <td>2015-03-19</td>\n",
       "      <td>Accounts Receivable Consultants Inc.</td>\n",
       "      <td>Closed with explanation</td>\n",
       "      <td>Yes</td>\n",
       "      <td>0.0</td>\n",
       "    </tr>\n",
       "    <tr>\n",
       "      <th>2</th>\n",
       "      <td>1290564</td>\n",
       "      <td>Mortgage</td>\n",
       "      <td>FHA mortgage</td>\n",
       "      <td>Application, originator, mortgage broker</td>\n",
       "      <td>NaN</td>\n",
       "      <td>MA</td>\n",
       "      <td>2127</td>\n",
       "      <td>2015-03-19</td>\n",
       "      <td>2015-03-19</td>\n",
       "      <td>RBS Citizens</td>\n",
       "      <td>Closed with explanation</td>\n",
       "      <td>Yes</td>\n",
       "      <td>1.0</td>\n",
       "    </tr>\n",
       "    <tr>\n",
       "      <th>3</th>\n",
       "      <td>1291615</td>\n",
       "      <td>Credit card</td>\n",
       "      <td>NaN</td>\n",
       "      <td>Other</td>\n",
       "      <td>NaN</td>\n",
       "      <td>CA</td>\n",
       "      <td>92592</td>\n",
       "      <td>2015-03-19</td>\n",
       "      <td>2015-03-19</td>\n",
       "      <td>Navy FCU</td>\n",
       "      <td>In progress</td>\n",
       "      <td>Yes</td>\n",
       "      <td>0.0</td>\n",
       "    </tr>\n",
       "    <tr>\n",
       "      <th>4</th>\n",
       "      <td>1292165</td>\n",
       "      <td>Debt collection</td>\n",
       "      <td>Non-federal student loan</td>\n",
       "      <td>Cont'd attempts collect debt not owed</td>\n",
       "      <td>Debt resulted from identity theft</td>\n",
       "      <td>NaN</td>\n",
       "      <td>43068</td>\n",
       "      <td>2015-03-19</td>\n",
       "      <td>2015-03-19</td>\n",
       "      <td>Transworld Systems Inc.</td>\n",
       "      <td>In progress</td>\n",
       "      <td>Yes</td>\n",
       "      <td>0.0</td>\n",
       "    </tr>\n",
       "  </tbody>\n",
       "</table>\n",
       "</div>"
      ],
      "text/plain": [
       "   complaint_id          product               sub_product  \\\n",
       "0       1291006  Debt collection                       NaN   \n",
       "1       1290580  Debt collection                   Medical   \n",
       "2       1290564         Mortgage              FHA mortgage   \n",
       "3       1291615      Credit card                       NaN   \n",
       "4       1292165  Debt collection  Non-federal student loan   \n",
       "\n",
       "                                      issue  \\\n",
       "0                     Communication tactics   \n",
       "1     Cont'd attempts collect debt not owed   \n",
       "2  Application, originator, mortgage broker   \n",
       "3                                     Other   \n",
       "4     Cont'd attempts collect debt not owed   \n",
       "\n",
       "                           sub_issue state  zip_code date_received  \\\n",
       "0         Frequent or repeated calls    TX     76119    2015-03-19   \n",
       "1                   Debt is not mine    TX     77479    2015-03-19   \n",
       "2                                NaN    MA      2127    2015-03-19   \n",
       "3                                NaN    CA     92592    2015-03-19   \n",
       "4  Debt resulted from identity theft   NaN     43068    2015-03-19   \n",
       "\n",
       "  date_sent_to_company                               company  \\\n",
       "0           2015-03-19           Premium Asset Services, LLC   \n",
       "1           2015-03-19  Accounts Receivable Consultants Inc.   \n",
       "2           2015-03-19                          RBS Citizens   \n",
       "3           2015-03-19                              Navy FCU   \n",
       "4           2015-03-19               Transworld Systems Inc.   \n",
       "\n",
       "          company_response timely_response  consumer_disputed  \n",
       "0              In progress             Yes                0.0  \n",
       "1  Closed with explanation             Yes                0.0  \n",
       "2  Closed with explanation             Yes                1.0  \n",
       "3              In progress             Yes                0.0  \n",
       "4              In progress             Yes                0.0  "
      ]
     },
     "execution_count": 25,
     "metadata": {},
     "output_type": "execute_result"
    }
   ],
   "source": [
    "df.head()"
   ]
  },
  {
   "cell_type": "code",
   "execution_count": 26,
   "metadata": {},
   "outputs": [],
   "source": [
    "df.to_csv('./data/21Feb/26k-consumer-complaints-labels.csv', index=False)"
   ]
  },
  {
   "cell_type": "code",
   "execution_count": 20,
   "metadata": {},
   "outputs": [
    {
     "data": {
      "text/plain": [
       "22150"
      ]
     },
     "execution_count": 20,
     "metadata": {},
     "output_type": "execute_result"
    }
   ],
   "source": [
    "df['consumer_disputed'].isnull().sum()"
   ]
  },
  {
   "cell_type": "code",
   "execution_count": 21,
   "metadata": {},
   "outputs": [
    {
     "data": {
      "text/plain": [
       "28156"
      ]
     },
     "execution_count": 21,
     "metadata": {},
     "output_type": "execute_result"
    }
   ],
   "source": [
    "len(df)"
   ]
  },
  {
   "cell_type": "code",
   "execution_count": 22,
   "metadata": {},
   "outputs": [
    {
     "data": {
      "text/plain": [
       "1.0    4708\n",
       "0.0    1298\n",
       "Name: consumer_disputed, dtype: int64"
      ]
     },
     "execution_count": 22,
     "metadata": {},
     "output_type": "execute_result"
    }
   ],
   "source": [
    "df['consumer_disputed'].value_counts()"
   ]
  },
  {
   "cell_type": "code",
   "execution_count": null,
   "metadata": {},
   "outputs": [],
   "source": []
  }
 ],
 "metadata": {
  "kernelspec": {
   "display_name": "Python 3",
   "language": "python",
   "name": "python3"
  },
  "language_info": {
   "codemirror_mode": {
    "name": "ipython",
    "version": 3
   },
   "file_extension": ".py",
   "mimetype": "text/x-python",
   "name": "python",
   "nbconvert_exporter": "python",
   "pygments_lexer": "ipython3",
   "version": "3.7.2"
  }
 },
 "nbformat": 4,
 "nbformat_minor": 4
}
